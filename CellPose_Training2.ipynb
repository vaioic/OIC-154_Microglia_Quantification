{
 "cells": [
  {
   "cell_type": "markdown",
   "id": "7f3bf97d",
   "metadata": {},
   "source": [
    "## Packages to Import"
   ]
  },
  {
   "cell_type": "code",
   "execution_count": 52,
   "id": "8e0cc8d5",
   "metadata": {},
   "outputs": [],
   "source": [
    "import numpy as np\n",
    "import skimage as sk\n",
    "from skimage.io import imread, imsave\n",
    "from glob import glob\n",
    "import napari\n",
    "from cellpose import io, models, train \n",
    "import os\n",
    "from tqdm import tqdm"
   ]
  },
  {
   "cell_type": "markdown",
   "id": "79eb96b1",
   "metadata": {},
   "source": [
    "## Randomly split the images and labels into test and training datasets\n",
    "Images were previously split by Z and sorted to only keep the slices that had labels"
   ]
  },
  {
   "cell_type": "code",
   "execution_count": 53,
   "id": "5bad3aee",
   "metadata": {},
   "outputs": [],
   "source": [
    "X = sorted(glob('../Microglia_CellPose_Model/NonEmpty_Slices/*.tif'))\n",
    "X = list(map(imread,X))\n",
    "Y = sorted(glob('../Microglia_CellPose_Model/NonEmpty_Masks/*.tif'))\n",
    "Y = list(map(imread,Y))\n",
    "rng = np.random.RandomState(42)\n",
    "ind = rng.permutation(len(X))\n",
    "n_val = max(1, int(round(0.15 * len(ind))))\n",
    "ind_train, ind_val = ind[:-n_val], ind[-n_val:]\n",
    "X_val, Y_val = [X[i] for i in ind_val]  , [Y[i] for i in ind_val]\n",
    "X_trn, Y_trn = [X[i] for i in ind_train], [Y[i] for i in ind_train]"
   ]
  },
  {
   "cell_type": "markdown",
   "id": "821159dd",
   "metadata": {},
   "source": [
    "Set save locations for train and test sets, then save imgs and labels with matching IDs."
   ]
  },
  {
   "cell_type": "code",
   "execution_count": 54,
   "id": "d2d38132",
   "metadata": {},
   "outputs": [],
   "source": [
    "save_train = 'E:/ParadaKusz_Lab/Microglia_CellPose_Model/Train/'\n",
    "save_test = 'E:/ParadaKusz_Lab/Microglia_CellPose_Model/Test/'\n"
   ]
  },
  {
   "cell_type": "markdown",
   "id": "3b72d545",
   "metadata": {},
   "source": [
    "CellPose is VERY picky about the structure of the images. Be sure to "
   ]
  },
  {
   "cell_type": "code",
   "execution_count": 55,
   "id": "49b612bc",
   "metadata": {},
   "outputs": [
    {
     "name": "stderr",
     "output_type": "stream",
     "text": [
      "100%|██████████| 128/128 [00:05<00:00, 24.38it/s]\n",
      "100%|██████████| 22/22 [00:00<00:00, 24.64it/s]\n"
     ]
    }
   ],
   "source": [
    "for i in tqdm(range(len(Y_trn))):\n",
    "    squeezed_Y = np.squeeze(Y_trn[i])\n",
    "    squeezed_X = np.squeeze(X_trn[i])\n",
    "    imsave(os.path.join(save_train,'0'+str(i)+'_masks.tif'),squeezed_Y,check_contrast=False)\n",
    "    imsave(os.path.join(save_train,'0'+str(i)+'_img.tif'),squeezed_X,check_contrast=False)\n",
    "\n",
    "for i in tqdm(range(len(Y_val))):\n",
    "    squeezed_Y = np.squeeze(Y_val[i])\n",
    "    squeezed_X = np.squeeze(X_val[i])\n",
    "    imsave(os.path.join(save_test,'0'+str(i)+'_masks.tif'),squeezed_Y,check_contrast=False)\n",
    "    imsave(os.path.join(save_test,'0'+str(i)+'_img.tif'),squeezed_X,check_contrast=False)"
   ]
  },
  {
   "cell_type": "markdown",
   "id": "054f7295",
   "metadata": {},
   "source": [
    "## Using Cellpose to add training to the Cyto3 model."
   ]
  },
  {
   "cell_type": "code",
   "execution_count": null,
   "id": "e6cdea1c",
   "metadata": {},
   "outputs": [],
   "source": [
    "train_dir = 'E:/ParadaKusz_Lab/Microglia_CellPose_Model/Train/'\n",
    "test_dir = 'E:/ParadaKusz_Lab/Microglia_CellPose_Model/Test/'\n",
    "io.logger_setup()\n",
    "\n",
    "output = io.load_train_test_data(train_dir, test_dir, image_filter=\"_img\",\n",
    "                                mask_filter=\"_masks\", look_one_level_down=False)\n",
    "images, labels, image_names, test_images, test_labels, image_names_test = output\n",
    "\n",
    "# e.g. retrain a Cellpose model\n",
    "model = models.CellposeModel(model_type=\"cyto3\")\n",
    "\n",
    "model_path, train_losses, test_losses = train.train_seg(model.net,\n",
    "                            train_data=images, train_labels=labels,\n",
    "                            channels=[0,0], normalize=True,\n",
    "                            test_data=test_images, test_labels=test_labels,\n",
    "                            weight_decay=1e-4, SGD=True, learning_rate=0.1,\n",
    "                            n_epochs=100, model_name=\"my_new_model\")"
   ]
  },
  {
   "cell_type": "code",
   "execution_count": 56,
   "id": "789f052a",
   "metadata": {},
   "outputs": [],
   "source": [
    "img = imread(\"E:/ParadaKusz_Lab/TIF_Files/Control_MO/Control_MO_04.tif\")"
   ]
  },
  {
   "cell_type": "code",
   "execution_count": 57,
   "id": "da694046",
   "metadata": {},
   "outputs": [
    {
     "name": "stdout",
     "output_type": "stream",
     "text": [
      "creating new log file\n",
      "2025-06-26 12:14:33,215 [INFO] WRITING LOG OUTPUT TO C:\\Users\\kristin.gallik\\.cellpose\\run.log\n",
      "2025-06-26 12:14:33,216 [INFO] \n",
      "cellpose version: \t3.1.1.2 \n",
      "platform:       \twin32 \n",
      "python version: \t3.10.16 \n",
      "torch version:  \t2.7.0+cu118\n",
      "2025-06-26 12:14:33,218 [INFO] >> Microglia_LargeZ_V2 << model set to be used\n",
      "2025-06-26 12:14:33,220 [INFO] ** TORCH CUDA version installed and working. **\n",
      "2025-06-26 12:14:33,221 [INFO] >>>> using GPU (CUDA)\n",
      "2025-06-26 12:14:33,354 [INFO] >>>> loading model C:\\Users\\kristin.gallik\\.cellpose\\models\\Microglia_LargeZ_V2\n",
      "2025-06-26 12:14:33,581 [INFO] >>>> model diam_mean =  30.000 (ROIs rescaled to this size during training)\n",
      "2025-06-26 12:14:33,583 [INFO] >>>> model diam_labels =  43.143 (mean diameter of training ROIs)\n"
     ]
    }
   ],
   "source": [
    "io.logger_setup()\n",
    "model = models.CellposeModel(gpu=True,model_type=\"Microglia_LargeZ_V2\") # model_type='cyto' or 'nuclei' or 'cyto2' or 'cyto3'\n"
   ]
  },
  {
   "cell_type": "code",
   "execution_count": 58,
   "id": "833cd920",
   "metadata": {},
   "outputs": [
    {
     "name": "stdout",
     "output_type": "stream",
     "text": [
      "2025-06-26 12:15:09,061 [INFO] multi-stack tiff read in as having 33 planes 1 channels\n",
      "2025-06-26 12:15:10,724 [INFO] 0%|          | 0/33 [00:00<?, ?it/s]\n",
      "2025-06-26 12:15:27,970 [INFO] 100%|##########| 33/33 [00:17<00:00,  1.91it/s]\n",
      "2025-06-26 12:15:29,511 [INFO] network run in 18.79s\n",
      "2025-06-26 12:15:29,513 [INFO] 0%|          | 0/33 [00:00<?, ?it/s]\n",
      "2025-06-26 12:15:29,525 [INFO] No cell pixels found.\n",
      "2025-06-26 12:15:49,283 [INFO] 100%|##########| 33/33 [00:19<00:00,  1.67it/s]\n",
      "2025-06-26 12:15:49,284 [INFO] stitching 33 planes using stitch_threshold=0.050 to make 3D masks\n"
     ]
    },
    {
     "name": "stderr",
     "output_type": "stream",
     "text": [
      "100%|██████████| 32/32 [00:00<00:00, 35.70it/s]\n"
     ]
    },
    {
     "name": "stdout",
     "output_type": "stream",
     "text": [
      "2025-06-26 12:15:51,964 [INFO] masks created in 22.45s\n"
     ]
    }
   ],
   "source": [
    "channels =[[0,0]]\n",
    "masks, _, _ = model.eval(img, channels=channels, z_axis=0,stitch_threshold=0.05, flow_threshold=0.4,cellprob_threshold=0.0)"
   ]
  },
  {
   "cell_type": "code",
   "execution_count": 59,
   "id": "e49b70b2",
   "metadata": {},
   "outputs": [
    {
     "name": "stderr",
     "output_type": "stream",
     "text": [
      "WARNING: DirectWrite: CreateFontFaceFromHDC() failed (Indicates an error in an input file such as a font file.) for QFontDef(Family=\"\", pointsize=12, pixelsize=16, styleHint=5, weight=50, stretch=100, hintingPreference=0) LOGFONT(\"MS Sans Serif\", lfWidth=0, lfHeight=-16) dpi=96\n"
     ]
    },
    {
     "name": "stdout",
     "output_type": "stream",
     "text": [
      "2025-06-26 12:16:07,359 [WARNING] DirectWrite: CreateFontFaceFromHDC() failed (Indicates an error in an input file such as a font file.) for QFontDef(Family=\"\", pointsize=12, pixelsize=16, styleHint=5, weight=50, stretch=100, hintingPreference=0) LOGFONT(\"MS Sans Serif\", lfWidth=0, lfHeight=-16) dpi=96\n"
     ]
    },
    {
     "data": {
      "text/plain": [
       "<Labels layer 'masks' at 0x224606436d0>"
      ]
     },
     "execution_count": 59,
     "metadata": {},
     "output_type": "execute_result"
    }
   ],
   "source": [
    "viewer = napari.view_image(img, name='img', scale =[4.5,0.3,0.3])\n",
    "viewer.add_labels(masks, name='masks',scale=[4.5,0.3,0.3])"
   ]
  },
  {
   "cell_type": "code",
   "execution_count": null,
   "id": "ce024dde",
   "metadata": {},
   "outputs": [],
   "source": []
  }
 ],
 "metadata": {
  "kernelspec": {
   "display_name": "CellPose_CLE_Skan",
   "language": "python",
   "name": "cellpose_cle_skan"
  },
  "language_info": {
   "codemirror_mode": {
    "name": "ipython",
    "version": 3
   },
   "file_extension": ".py",
   "mimetype": "text/x-python",
   "name": "python",
   "nbconvert_exporter": "python",
   "pygments_lexer": "ipython3",
   "version": "3.10.16"
  }
 },
 "nbformat": 4,
 "nbformat_minor": 5
}
