{
 "cells": [
  {
   "cell_type": "markdown",
   "id": "282a7505-179c-47da-8588-4d05cb32bff9",
   "metadata": {},
   "source": [
    "# Set up"
   ]
  },
  {
   "cell_type": "markdown",
   "id": "6e27f4c7-624e-4d34-a3a3-04863cbdfc14",
   "metadata": {},
   "source": [
    "### Import Python packages to use in the script"
   ]
  },
  {
   "cell_type": "code",
   "execution_count": null,
   "id": "e9ab2301-00b8-471d-bcaf-e8edea487087",
   "metadata": {},
   "outputs": [],
   "source": [
    "import skimage as sk\n",
    "from skimage.io import imread, imshow, imsave\n",
    "import numpy as np\n",
    "import os\n",
    "from glob import glob\n",
    "import napari\n",
    "from cellpose import models, io, utils\n",
    "import pandas as pd\n",
    "import pyclesperanto as cle\n",
    "import skan\n",
    "from imaris_ims_file_reader.ims import ims\n",
    "from tqdm import tqdm"
   ]
  },
  {
   "cell_type": "markdown",
   "id": "0c968486-314c-4cea-a6d8-0c8c385c355f",
   "metadata": {},
   "source": [
    "### Define the functions that will run different steps/tasks on the data"
   ]
  },
  {
   "cell_type": "markdown",
   "id": "3a0297b8-27ca-4f8a-bf04-da563e3f7f62",
   "metadata": {},
   "source": [
    "Need to select which GPU device to send data to"
   ]
  },
  {
   "cell_type": "code",
   "execution_count": null,
   "id": "b8cf0bad-85a8-4ddd-8147-b35a488e33b4",
   "metadata": {},
   "outputs": [],
   "source": [
    "cle.select_device(\"NVIDIA\")"
   ]
  },
  {
   "cell_type": "code",
   "execution_count": null,
   "id": "518f7ec7-9a5e-4c20-a057-1ac303dbfd43",
   "metadata": {},
   "outputs": [],
   "source": [
    "def normalize_images(input_image,tophat_radius):\n",
    "    input_gpu = cle.push(input_image)\n",
    "    #normalizing the image stack\n",
    "    equalized_intensities_stack = cle.create_like(input_gpu)\n",
    "    a_slice = cle.create([input_gpu.shape[1], input_gpu.shape[2]])\n",
    "    num_slices = input_gpu.shape[0]\n",
    "    mean_intensity_stack = cle.mean_of_all_pixels(input_gpu)\n",
    "    corrected_slice = None\n",
    "    for z in range(0, num_slices):\n",
    "        # get a single slice out of the stack\n",
    "        cle.copy_slice(input_gpu, a_slice, z)\n",
    "        # measure its intensity\n",
    "        mean_intensity_slice = cle.mean_of_all_pixels(a_slice)\n",
    "        # correct the intensity\n",
    "        correction_factor = mean_intensity_slice/mean_intensity_stack\n",
    "        corrected_slice = cle.multiply_image_and_scalar(a_slice, corrected_slice, correction_factor)\n",
    "        # copy slice back in a stack\n",
    "        cle.copy_slice(corrected_slice, equalized_intensities_stack, z)\n",
    "    #background subtraction (increase the signal to noise ratio for improved segmentation results)\n",
    "    background_subtracted_top_hat = cle.top_hat_sphere(equalized_intensities_stack,radius_x=tophat_radius,radius_y=tophat_radius,radius_z=tophat_radius)\n",
    "    #pull data off gpu\n",
    "    input_pull = cle.pull(input_gpu)\n",
    "    background_subtracted_top_hat_pull = cle.pull(background_subtracted_top_hat)\n",
    "    equalized_intensities_stack_pull = cle.pull(equalized_intensities_stack)\n",
    "    return background_subtracted_top_hat_pull"
   ]
  },
  {
   "cell_type": "code",
   "execution_count": null,
   "id": "08d8ac11-10f8-4e9c-b282-a4a81e58ab74",
   "metadata": {},
   "outputs": [],
   "source": [
    "def get_measurements(mask,img,props):\n",
    "    filtered_masks = sk.segmentation.clear_border(mask)\n",
    "    size_filtered = sk.morphology.remove_small_objects(filtered_masks,min_size=2000)\n",
    "    df = sk.measure.regionprops_table(size_filtered,img,properties=props)\n",
    "    df = pd.DataFrame.from_dict(df)\n",
    "    return size_filtered, df"
   ]
  },
  {
   "cell_type": "code",
   "execution_count": null,
   "id": "94d11884-e065-4c27-b36e-0a4411884def",
   "metadata": {},
   "outputs": [],
   "source": [
    "def scaled_vol(df,voxel):\n",
    "    scaled_vol = []\n",
    "    for a in np.asarray(df['area']).astype(int):\n",
    "        scaled_vol.append(a*voxel)\n",
    "    vol_df = pd.Series(scaled_vol,name='Volume (um^3)')\n",
    "    scaled_df = pd.concat([df,vol_df],axis=1)\n",
    "    return scaled_df"
   ]
  },
  {
   "cell_type": "code",
   "execution_count": null,
   "id": "ae03f51d-fb5d-4e01-b00a-782a24b16a80",
   "metadata": {},
   "outputs": [],
   "source": [
    "def get_3D_surfacearea_and_sphericity(mask_img,scaled_df):\n",
    "    surf_area_list = []\n",
    "    sphericity_list = []\n",
    "    vol = np.asarray(scaled_df['Volume (um^3)']).astype(np.float64)\n",
    "    c = 0\n",
    "    for i in np.asarray(scaled_df['label']).astype(int):\n",
    "        obj = mask_img == i\n",
    "        verts, faces, _ , _ = sk.measure.marching_cubes(obj, level=0.0,spacing=(voxel_size_z,voxel_size_x,voxel_size_y))\n",
    "        surf_area = sk.measure.mesh_surface_area(verts, faces)\n",
    "        surf_area_list.append(surf_area)\n",
    "        sphericity = (np.pi**(1/3)*((6*vol[c])**(2/3)))/surf_area\n",
    "        sphericity_list.append(sphericity)\n",
    "        c += 1\n",
    "    surface_areas = pd.Series(surf_area_list,name='Surface_Area (um^2)')\n",
    "    sphericities = pd.Series(sphericity_list,name='Sphericity')\n",
    "    merged_df = pd.concat([scaled_df,surface_areas,sphericities], axis=1)\n",
    "    return merged_df"
   ]
  },
  {
   "cell_type": "markdown",
   "id": "703ed5ef",
   "metadata": {},
   "source": [
    "Below cell contains the formula for calculating sphericity and the source of the code. Not required to run below cell for script to work."
   ]
  },
  {
   "cell_type": "code",
   "execution_count": null,
   "id": "ca31a515-1f64-413e-b260-17bf4469d393",
   "metadata": {},
   "outputs": [],
   "source": [
    "# def sphericity(mesh_volume, mesh_surface_area):\n",
    "    \n",
    "#     '''This definition of sphericity assumes that you are working in continuous space.\n",
    "#     Parameters:\n",
    "#     -----------\n",
    "#     mesh_volume: integer or float value\n",
    "#     mesh_surface_area: integer or float value\n",
    "#     Returns:\n",
    "#     --------\n",
    "#     psi: a float value with range(0,1) reflecting the compactness of an object\n",
    "#     Got this script from: https://github.com/BiAPoL/Bio-image_Analysis_with_Python/blob/main/05_feature_extraction/02_sphericity_and_solidity.ipynb\n",
    "#     '''\n",
    "#     numerator = (np.pi ** (1/3)) * ((6 * mesh_volume) ** (2/3))\n",
    "#     denominator = mesh_surface_area\n",
    "    \n",
    "#     psi = numerator / denominator\n",
    "    \n",
    "#     return psi"
   ]
  },
  {
   "cell_type": "code",
   "execution_count": null,
   "id": "1f43f53d-ada7-4e12-909f-a35d80379ead",
   "metadata": {},
   "outputs": [],
   "source": [
    "def save(save_path, img_name, norm_img, filtered_masks, merged_df):\n",
    "    # make directories if they do not exist\n",
    "    try:\n",
    "        norm_path = os.mkdir(os.path.join(save_path,'norm_imgs'))\n",
    "        masks_path = os.mkdir(os.path.join(save_path,'masks'))\n",
    "        dataframe_path = os.mkdir(os.path.join(save_path,'measurements'))\n",
    "    # use the expected paths if the directories exist already\n",
    "    except:\n",
    "        masks_path = os.path.join(save_path,'masks')\n",
    "        norm_path = os.path.join(save_path,'norm_imgs')\n",
    "        dataframe_path = os.path.join(save_path,'measurements')\n",
    "    imsave(os.path.join(masks_path,'filtered_masks_'+img_name[:-4]+'.tif'),filtered_masks,check_contrast=False)\n",
    "    imsave(os.path.join(norm_path,'normalized_'+img_name[:-4]+'.tif'),norm_img)\n",
    "    merged_df.to_csv(os.path.join(dataframe_path,'measurements_'+img_name[:-4]+'.csv'))"
   ]
  },
  {
   "cell_type": "markdown",
   "id": "c7458003-8b1f-4606-b42c-0b870083545a",
   "metadata": {},
   "source": [
    "# Load in Data"
   ]
  },
  {
   "cell_type": "markdown",
   "id": "a161bb38-4beb-4da8-bc65-abd09a15246a",
   "metadata": {},
   "source": [
    "## Two options for loading in data:\n",
    "Note that options 1 and 2 expect the images to be in a tiff format. sk.io.imread cannot read in ims files"
   ]
  },
  {
   "cell_type": "markdown",
   "id": "6aacdfbc-0898-426b-b0dd-f72742f9c08d",
   "metadata": {},
   "source": [
    "### Option 1: Specify the locations of all image containing folders:\n",
    "Then merge into a long list of images and file names"
   ]
  },
  {
   "cell_type": "code",
   "execution_count": null,
   "id": "8a7e6cd9-b881-4dde-9153-9bba41ecf225",
   "metadata": {},
   "outputs": [],
   "source": [
    "CMO_files = sorted(glob('E:/ParadaKusz_Lab/TIF_Files/Control_MO/*.tif'))\n",
    "GMO_1ng_files = sorted(glob('E:/ParadaKusz_Lab/TIF_Files/GNAS_MO_1ng/*.tif'))\n",
    "GMO_2ng_files = sorted(glob('E:/ParadaKusz_Lab/TIF_Files/GNAS_MO_2ng/*.tif'))"
   ]
  },
  {
   "cell_type": "code",
   "execution_count": null,
   "id": "10fd57ea-4c38-4670-ba76-821e7b93b6b6",
   "metadata": {},
   "outputs": [],
   "source": [
    "CMO_imgs = list(map(sk.io.imread,CMO_files))\n",
    "GMO_1ng_imgs = list(map(sk.io.imread,GMO_1ng_files))\n",
    "GMO_2ng_imgs = list(map(sk.io.imread,GMO_2ng_files))"
   ]
  },
  {
   "cell_type": "code",
   "execution_count": null,
   "id": "955373b2-4e55-4de2-8da7-12f3ea8f7c93",
   "metadata": {},
   "outputs": [],
   "source": [
    "all_files = CMO_files+GMO_1ng_files+GMO_2ng_files # need this for getting image names later\n",
    "all_imgs = CMO_imgs+GMO_1ng_imgs+GMO_2ng_imgs"
   ]
  },
  {
   "cell_type": "markdown",
   "id": "7ba917eb-a37f-4967-81a6-381d6b8c3b62",
   "metadata": {},
   "source": [
    "### Option 2: Use a recursive search option to find all images in the parent directory:"
   ]
  },
  {
   "cell_type": "code",
   "execution_count": null,
   "id": "ce235925-aa38-4787-9a0d-a1de664811ff",
   "metadata": {},
   "outputs": [],
   "source": [
    "all_files = sorted(glob('E:/ParadaKusz_Lab/TIF_Files/**/*.tif',recursive=True)) #finds all tiff images in the subdirectories of TIF_Files\n",
    "all_imgs = list(map(sk.io.imread,all_files))"
   ]
  },
  {
   "cell_type": "markdown",
   "id": "a07157bc-d7a2-4ffd-a39e-822b14ad79db",
   "metadata": {},
   "source": [
    "### Option 3: Read in Imaris files directly"
   ]
  },
  {
   "cell_type": "code",
   "execution_count": null,
   "id": "e4eb6cc5-7daf-4413-9712-d13c57b3668b",
   "metadata": {},
   "outputs": [],
   "source": [
    "all_files = sorted(glob('./**/*.ims'))"
   ]
  },
  {
   "cell_type": "code",
   "execution_count": null,
   "id": "5d5830c2-f1f4-4a7d-b12a-68cc4d131beb",
   "metadata": {},
   "outputs": [],
   "source": [
    "all_imgs = [ims(img,ResolutionLevelLock=0) for img in all_files]"
   ]
  },
  {
   "cell_type": "code",
   "execution_count": null,
   "id": "6fb99809-0d89-4b70-869c-7039cf4f57a6",
   "metadata": {},
   "outputs": [],
   "source": [
    "all_imgs = [img[0,0,:,:,:] for img in all_imgs]"
   ]
  },
  {
   "cell_type": "code",
   "execution_count": null,
   "id": "fedf74ab-e33c-4dd5-995c-2dc0ae66df2c",
   "metadata": {},
   "outputs": [],
   "source": [
    "all_imgs[0].shape"
   ]
  },
  {
   "cell_type": "markdown",
   "id": "86fd8805-b110-4d8e-aa49-8fe15ac0805c",
   "metadata": {},
   "source": [
    "# Run Pipeline"
   ]
  },
  {
   "cell_type": "markdown",
   "id": "a4e6a796-4403-4a57-9e69-cbc5c313edc3",
   "metadata": {
    "jp-MarkdownHeadingCollapsed": true
   },
   "source": [
    "### Optional use of random integer generator if you want to test on single random images first"
   ]
  },
  {
   "cell_type": "code",
   "execution_count": null,
   "id": "768e9a30-c021-47f9-875a-2d213c6d65f5",
   "metadata": {},
   "outputs": [],
   "source": [
    "import random\n",
    "nums = range(len(all_img))\n",
    "i = random.randint(min(nums),max(nums))"
   ]
  },
  {
   "cell_type": "code",
   "execution_count": null,
   "id": "96130a84-5c8c-47d9-b435-de7689ef86a3",
   "metadata": {},
   "outputs": [],
   "source": [
    "tophat_radius = 10\n",
    "img = normalize_images(all_img[i],tophat_radius) #change the tophat_radius to increase or decrease the background as needed"
   ]
  },
  {
   "cell_type": "code",
   "execution_count": null,
   "id": "6634c8b7-5eaa-4875-91dd-100f67170759",
   "metadata": {},
   "outputs": [],
   "source": [
    "io.logger_setup()\n",
    "model = models.Cellpose(gpu=True,model_type='cyto3') # model_type='cyto' or 'nuclei' or 'cyto2' or 'cyto3'\n",
    "channels =[[0,0]]\n",
    "masks, _, _, _ = model.eval(img, diameter=70, channels=channels, z_axis=0,stitch_threshold=0.2,flow_threshold=0.5,cellprob_threshold=1.0)"
   ]
  },
  {
   "cell_type": "code",
   "execution_count": null,
   "id": "2f4c04b1-35f1-4d03-bf8c-3bcb4471abf4",
   "metadata": {},
   "outputs": [],
   "source": [
    "#View results of segmentation in Napari\n",
    "viewer = napari.view_image(all_img[i], name='original img', scale = (4.55,0.3,0.3))\n",
    "viewer.add_image(img,name='normalized img', scale = (4.55,0.3,0.3))\n",
    "viewer.add_image(masks,name='masks', scale = (4.55,0.3,0.3))"
   ]
  },
  {
   "cell_type": "markdown",
   "id": "4594dcad-9b78-44c2-ab95-b68652bcceef",
   "metadata": {},
   "source": [
    "### Run pipeline on all images"
   ]
  },
  {
   "cell_type": "markdown",
   "id": "96f32b5d-bf9f-4593-9b6c-277e934dd82b",
   "metadata": {},
   "source": [
    "Set up a few parameters before running\n",
    "\n",
    "Properties that can be measured with scikit-image can be found here: [Scikit-image Region Properties](https://scikit-image.org/docs/dev/api/skimage.measure.html#skimage.measure.regionprops)"
   ]
  },
  {
   "cell_type": "code",
   "execution_count": null,
   "id": "53f67b9e-a48b-43cd-937d-bc480e40eca1",
   "metadata": {},
   "outputs": [],
   "source": [
    "tophat_radius = 10\n",
    "voxel_size_x = 0.301\n",
    "voxel_size_y = 0.301\n",
    "voxel_size_z = 4.55\n",
    "voxel = 0.301*0.301*4.55\n",
    "save_path = 'E:/ParadaKusz_Lab/OIC-154_Microglia_Quantification/Segmentation_Outputs'\n",
    "props = ('label','area','intensity_mean','intensity_min','intensity_max')"
   ]
  },
  {
   "cell_type": "code",
   "execution_count": null,
   "id": "82097fc6-7925-433b-8624-b20e5ba8800a",
   "metadata": {},
   "outputs": [],
   "source": [
    "norm_imgs = [normalize_images(img,tophat_radius) for img in tqdm(all_imgs)]"
   ]
  },
  {
   "cell_type": "code",
   "execution_count": null,
   "id": "6a765f90-2165-4b46-8cda-869c71109023",
   "metadata": {},
   "outputs": [],
   "source": [
    "io.logger_setup()\n",
    "model = models.Cellpose(gpu=True,model_type='cyto3') # model_type='cyto' or 'nuclei' or 'cyto2' or 'cyto3'\n",
    "channels =[[0,0]]\n",
    "masks, _, _, _ = model.eval(norm_imgs, diameter=70, channels=channels, z_axis=0,stitch_threshold=0.2,flow_threshold=0.5,cellprob_threshold=1.0)"
   ]
  },
  {
   "cell_type": "code",
   "execution_count": null,
   "id": "6d0b6a12-ff5c-46fd-a0f5-84cba7478a94",
   "metadata": {},
   "outputs": [],
   "source": [
    "for i in tqdm(range(len(norm_imgs))):\n",
    "    img_name = os.path.basename(all_files[i])\n",
    "    mask_img, df = get_measurements(masks[i],all_imgs[i],props)\n",
    "    scaled_df = scaled_vol(df,voxel)\n",
    "    merged_df = get_3D_surfacearea_and_sphericity(mask_img,scaled_df)\n",
    "    save(save_path, img_name, norm_imgs[i], mask_img, merged_df)"
   ]
  },
  {
   "cell_type": "code",
   "execution_count": null,
   "id": "42c15205-03de-490a-939f-b1eed9c261c3",
   "metadata": {},
   "outputs": [],
   "source": []
  }
 ],
 "metadata": {
  "kernelspec": {
   "display_name": "CellPose_CLE_Skan",
   "language": "python",
   "name": "cellpose_cle_skan"
  },
  "language_info": {
   "codemirror_mode": {
    "name": "ipython",
    "version": 3
   },
   "file_extension": ".py",
   "mimetype": "text/x-python",
   "name": "python",
   "nbconvert_exporter": "python",
   "pygments_lexer": "ipython3",
   "version": "3.10.16"
  }
 },
 "nbformat": 4,
 "nbformat_minor": 5
}
