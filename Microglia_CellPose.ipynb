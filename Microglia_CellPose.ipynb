{
 "cells": [
  {
   "cell_type": "markdown",
   "id": "282a7505-179c-47da-8588-4d05cb32bff9",
   "metadata": {},
   "source": [
    "# Set up"
   ]
  },
  {
   "cell_type": "markdown",
   "id": "6e27f4c7-624e-4d34-a3a3-04863cbdfc14",
   "metadata": {},
   "source": [
    "### Import Python packages to use in the script"
   ]
  },
  {
   "cell_type": "code",
   "execution_count": 20,
   "id": "e9ab2301-00b8-471d-bcaf-e8edea487087",
   "metadata": {},
   "outputs": [],
   "source": [
    "import skimage as sk\n",
    "from skimage.io import imread, imshow, imsave\n",
    "import numpy as np\n",
    "import os\n",
    "from glob import glob\n",
    "import napari\n",
    "from cellpose import models, io, utils\n",
    "import pandas as pd\n",
    "import pyclesperanto as cle\n",
    "import skan\n",
    "from imaris_ims_file_reader.ims import ims\n",
    "from tqdm import tqdm"
   ]
  },
  {
   "cell_type": "markdown",
   "id": "0c968486-314c-4cea-a6d8-0c8c385c355f",
   "metadata": {
    "jp-MarkdownHeadingCollapsed": true
   },
   "source": [
    "### Define the functions that will run different steps/tasks on the data"
   ]
  },
  {
   "cell_type": "markdown",
   "id": "3a0297b8-27ca-4f8a-bf04-da563e3f7f62",
   "metadata": {},
   "source": [
    "Need to select which GPU device to send data to"
   ]
  },
  {
   "cell_type": "code",
   "execution_count": 2,
   "id": "b8cf0bad-85a8-4ddd-8147-b35a488e33b4",
   "metadata": {},
   "outputs": [
    {
     "data": {
      "text/plain": [
       "(OpenCL) NVIDIA RTX A4000 (OpenCL 3.0 CUDA)\n",
       "\tVendor:                      NVIDIA Corporation\n",
       "\tDriver Version:              573.24\n",
       "\tDevice Type:                 GPU\n",
       "\tCompute Units:               48\n",
       "\tGlobal Memory Size:          16375 MB\n",
       "\tLocal Memory Size:           0 MB\n",
       "\tMaximum Buffer Size:         4093 MB\n",
       "\tMax Clock Frequency:         1560 MHz\n",
       "\tImage Support:               Yes"
      ]
     },
     "execution_count": 2,
     "metadata": {},
     "output_type": "execute_result"
    }
   ],
   "source": [
    "cle.select_device(\"NVIDIA\")"
   ]
  },
  {
   "cell_type": "code",
   "execution_count": 3,
   "id": "518f7ec7-9a5e-4c20-a057-1ac303dbfd43",
   "metadata": {},
   "outputs": [],
   "source": [
    "def normalize_images(input_image,tophat_radius):\n",
    "    input_gpu = cle.push(input_image)\n",
    "    #normalizing the image stack\n",
    "    equalized_intensities_stack = cle.create_like(input_gpu)\n",
    "    a_slice = cle.create([input_gpu.shape[1], input_gpu.shape[2]])\n",
    "    num_slices = input_gpu.shape[0]\n",
    "    mean_intensity_stack = cle.mean_of_all_pixels(input_gpu)\n",
    "    corrected_slice = None\n",
    "    for z in range(0, num_slices):\n",
    "        # get a single slice out of the stack\n",
    "        cle.copy_slice(input_gpu, a_slice, z)\n",
    "        # measure its intensity\n",
    "        mean_intensity_slice = cle.mean_of_all_pixels(a_slice)\n",
    "        # correct the intensity\n",
    "        correction_factor = mean_intensity_slice/mean_intensity_stack\n",
    "        corrected_slice = cle.multiply_image_and_scalar(a_slice, corrected_slice, correction_factor)\n",
    "        # copy slice back in a stack\n",
    "        cle.copy_slice(corrected_slice, equalized_intensities_stack, z)\n",
    "    #background subtraction (increase the signal to noise ratio for improved segmentation results)\n",
    "    background_subtracted_top_hat = cle.top_hat_sphere(equalized_intensities_stack,radius_x=tophat_radius,radius_y=tophat_radius,radius_z=tophat_radius)\n",
    "    #pull data off gpu\n",
    "    input_pull = cle.pull(input_gpu)\n",
    "    background_subtracted_top_hat_pull = cle.pull(background_subtracted_top_hat)\n",
    "    equalized_intensities_stack_pull = cle.pull(equalized_intensities_stack)\n",
    "    return background_subtracted_top_hat_pull"
   ]
  },
  {
   "cell_type": "code",
   "execution_count": 29,
   "id": "08d8ac11-10f8-4e9c-b282-a4a81e58ab74",
   "metadata": {},
   "outputs": [],
   "source": [
    "def get_measurements(mask,img,props,voxel):\n",
    "    filtered_masks = sk.segmentation.clear_border(mask)\n",
    "    #size_filtered = sk.morphology.remove_small_objects(filtered_masks,min_size=2000)\n",
    "    df = sk.measure.regionprops_table(filtered_masks,img,properties=props,spacing=voxel)\n",
    "    df = pd.DataFrame.from_dict(df)\n",
    "    return filtered_masks, df"
   ]
  },
  {
   "cell_type": "code",
   "execution_count": 5,
   "id": "94d11884-e065-4c27-b36e-0a4411884def",
   "metadata": {},
   "outputs": [],
   "source": [
    "def scaled_vol(df,voxel):\n",
    "    scaled_vol = []\n",
    "    for a in np.asarray(df['area']).astype(int):\n",
    "        scaled_vol.append(a*voxel)\n",
    "    vol_df = pd.Series(scaled_vol,name='Volume (um^3)')\n",
    "    scaled_df = pd.concat([df,vol_df],axis=1)\n",
    "    return scaled_df"
   ]
  },
  {
   "cell_type": "code",
   "execution_count": 27,
   "id": "ae03f51d-fb5d-4e01-b00a-782a24b16a80",
   "metadata": {},
   "outputs": [],
   "source": [
    "def get_3D_surfacearea_and_sphericity(mask_img,df,voxel):\n",
    "    surf_area_list = []\n",
    "    sphericity_list = []\n",
    "    vol = np.asarray(df['area']).astype(np.float64)\n",
    "    c = 0\n",
    "    for i in np.asarray(df['label']).astype(int):\n",
    "        obj = mask_img == i\n",
    "        verts, faces, _ , _ = sk.measure.marching_cubes(obj, level=0.0,spacing=voxel)\n",
    "        surf_area = sk.measure.mesh_surface_area(verts, faces)\n",
    "        surf_area_list.append(surf_area)\n",
    "        sphericity = (np.pi**(1/3)*((6*vol[c])**(2/3)))/surf_area\n",
    "        sphericity_list.append(sphericity)\n",
    "        c += 1\n",
    "    surface_areas = pd.Series(surf_area_list,name='Surface_Area (um^2)')\n",
    "    sphericities = pd.Series(sphericity_list,name='Sphericity')\n",
    "    merged_df = pd.concat([df,surface_areas,sphericities], axis=1)\n",
    "    return merged_df"
   ]
  },
  {
   "cell_type": "markdown",
   "id": "703ed5ef",
   "metadata": {},
   "source": [
    "Below cell contains the formula for calculating sphericity and the source of the code. Not required to run below cell for script to work."
   ]
  },
  {
   "cell_type": "code",
   "execution_count": null,
   "id": "ca31a515-1f64-413e-b260-17bf4469d393",
   "metadata": {},
   "outputs": [],
   "source": [
    "# def sphericity(mesh_volume, mesh_surface_area):\n",
    "    \n",
    "#     '''This definition of sphericity assumes that you are working in continuous space.\n",
    "#     Parameters:\n",
    "#     -----------\n",
    "#     mesh_volume: integer or float value\n",
    "#     mesh_surface_area: integer or float value\n",
    "#     Returns:\n",
    "#     --------\n",
    "#     psi: a float value with range(0,1) reflecting the compactness of an object\n",
    "#     Got this script from: https://github.com/BiAPoL/Bio-image_Analysis_with_Python/blob/main/05_feature_extraction/02_sphericity_and_solidity.ipynb\n",
    "#     '''\n",
    "#     numerator = (np.pi ** (1/3)) * ((6 * mesh_volume) ** (2/3))\n",
    "#     denominator = mesh_surface_area\n",
    "    \n",
    "#     psi = numerator / denominator\n",
    "    \n",
    "#     return psi"
   ]
  },
  {
   "cell_type": "code",
   "execution_count": 9,
   "id": "1f43f53d-ada7-4e12-909f-a35d80379ead",
   "metadata": {},
   "outputs": [],
   "source": [
    "def save(save_path, img_name, norm_img, filtered_masks, merged_df):\n",
    "    masks_path = os.path.join(save_path,'masks')\n",
    "    norm_path = os.path.join(save_path,'norm_imgs')\n",
    "    dataframe_path = os.path.join(save_path,'measurements')\n",
    "    imsave(os.path.join(masks_path,'filtered_masks_'+img_name[:-4]+'.tif'),filtered_masks,check_contrast=False)\n",
    "    imsave(os.path.join(norm_path,'normalized_'+img_name[:-4]+'.tif'),norm_img)\n",
    "    merged_df.to_csv(os.path.join(dataframe_path,'measurements_'+img_name[:-4]+'.csv'))"
   ]
  },
  {
   "cell_type": "markdown",
   "id": "c7458003-8b1f-4606-b42c-0b870083545a",
   "metadata": {},
   "source": [
    "# Load in Data"
   ]
  },
  {
   "cell_type": "markdown",
   "id": "a161bb38-4beb-4da8-bc65-abd09a15246a",
   "metadata": {},
   "source": [
    "## Two options for loading in data:\n",
    "Note that options 1 and 2 expect the images to be in a tiff format. sk.io.imread cannot read in ims files"
   ]
  },
  {
   "cell_type": "markdown",
   "id": "6aacdfbc-0898-426b-b0dd-f72742f9c08d",
   "metadata": {},
   "source": [
    "### Option 1: Specify the locations of all image containing folders:\n",
    "Then merge into a long list of images and file names"
   ]
  },
  {
   "cell_type": "code",
   "execution_count": null,
   "id": "8a7e6cd9-b881-4dde-9153-9bba41ecf225",
   "metadata": {},
   "outputs": [],
   "source": [
    "CMO_files = sorted(glob('E:/ParadaKusz_Lab/TIF_Files/Control_MO/*.tif'))\n",
    "GMO_1ng_files = sorted(glob('E:/ParadaKusz_Lab/TIF_Files/GNAS_MO_1ng/*.tif'))\n",
    "GMO_2ng_files = sorted(glob('E:/ParadaKusz_Lab/TIF_Files/GNAS_MO_2ng/*.tif'))"
   ]
  },
  {
   "cell_type": "code",
   "execution_count": null,
   "id": "10fd57ea-4c38-4670-ba76-821e7b93b6b6",
   "metadata": {},
   "outputs": [],
   "source": [
    "CMO_imgs = list(map(sk.io.imread,CMO_files))\n",
    "GMO_1ng_imgs = list(map(sk.io.imread,GMO_1ng_files))\n",
    "GMO_2ng_imgs = list(map(sk.io.imread,GMO_2ng_files))"
   ]
  },
  {
   "cell_type": "code",
   "execution_count": null,
   "id": "955373b2-4e55-4de2-8da7-12f3ea8f7c93",
   "metadata": {},
   "outputs": [],
   "source": [
    "all_files = CMO_files+GMO_1ng_files+GMO_2ng_files # need this for getting image names later\n",
    "all_img = CMO_imgs+GMO_1ng_imgs+GMO_2ng_imgs"
   ]
  },
  {
   "cell_type": "markdown",
   "id": "7ba917eb-a37f-4967-81a6-381d6b8c3b62",
   "metadata": {},
   "source": [
    "### Option 2: Use a recursive search option to find all images in the parent directory:"
   ]
  },
  {
   "cell_type": "code",
   "execution_count": null,
   "id": "ce235925-aa38-4787-9a0d-a1de664811ff",
   "metadata": {},
   "outputs": [],
   "source": [
    "all_files = sorted(glob('E:/ParadaKusz_Lab/TIF_Files/**/*.tif',recursive=True)) #finds all tiff images in the subdirectories of TIF_Files\n",
    "all_img = list(map(sk.io.imread,all_files))"
   ]
  },
  {
   "cell_type": "markdown",
   "id": "a07157bc-d7a2-4ffd-a39e-822b14ad79db",
   "metadata": {},
   "source": [
    "### Option 3: Read in Imaris files directly"
   ]
  },
  {
   "cell_type": "code",
   "execution_count": 13,
   "id": "24590574-5ee1-47cc-a937-c36ef85b5042",
   "metadata": {},
   "outputs": [],
   "source": [
    "img_array = img[0,0,:,:,:]"
   ]
  },
  {
   "cell_type": "code",
   "execution_count": 14,
   "id": "e3f5d930-89a3-4408-beec-a5d4f0c7666d",
   "metadata": {},
   "outputs": [
    {
     "data": {
      "text/plain": [
       "(32, 2048, 2048)"
      ]
     },
     "execution_count": 14,
     "metadata": {},
     "output_type": "execute_result"
    }
   ],
   "source": [
    "img_array.shape"
   ]
  },
  {
   "cell_type": "code",
   "execution_count": 14,
   "id": "b6ab1794",
   "metadata": {},
   "outputs": [
    {
     "name": "stdout",
     "output_type": "stream",
     "text": [
      "Opening writeable file: E:/ParadaKusz_Lab/IMS_Files\\control MO.ims \n",
      "\n",
      "Opening writeable file: E:/ParadaKusz_Lab/IMS_Files\\control MO_1.ims \n",
      "\n",
      "Opening writeable file: E:/ParadaKusz_Lab/IMS_Files\\control MO_2.ims \n",
      "\n",
      "Opening writeable file: E:/ParadaKusz_Lab/IMS_Files\\control MO_3.ims \n",
      "\n",
      "Opening writeable file: E:/ParadaKusz_Lab/IMS_Files\\control MO_4.ims \n",
      "\n",
      "Opening writeable file: E:/ParadaKusz_Lab/IMS_Files\\control MO_5.ims \n",
      "\n",
      "Opening writeable file: E:/ParadaKusz_Lab/IMS_Files\\control MO_6.ims \n",
      "\n",
      "Opening writeable file: E:/ParadaKusz_Lab/IMS_Files\\control MO_7.ims \n",
      "\n",
      "Opening writeable file: E:/ParadaKusz_Lab/IMS_Files\\gnas MO 1 ng.ims \n",
      "\n",
      "Opening writeable file: E:/ParadaKusz_Lab/IMS_Files\\gnas MO 1 ng_1.ims \n",
      "\n",
      "Opening writeable file: E:/ParadaKusz_Lab/IMS_Files\\gnas MO 1 ng_2.ims \n",
      "\n",
      "Opening writeable file: E:/ParadaKusz_Lab/IMS_Files\\gnas MO 1 ng_3.ims \n",
      "\n",
      "Opening writeable file: E:/ParadaKusz_Lab/IMS_Files\\gnas MO 1 ng_4.ims \n",
      "\n",
      "Opening writeable file: E:/ParadaKusz_Lab/IMS_Files\\gnas MO 1 ng_5.ims \n",
      "\n",
      "Opening writeable file: E:/ParadaKusz_Lab/IMS_Files\\gnas MO 1 ng_6.ims \n",
      "\n",
      "Opening writeable file: E:/ParadaKusz_Lab/IMS_Files\\gnas MO 1 ng_7.ims \n",
      "\n",
      "Opening writeable file: E:/ParadaKusz_Lab/IMS_Files\\gnas MO 2 ng.ims \n",
      "\n",
      "Opening writeable file: E:/ParadaKusz_Lab/IMS_Files\\gnas MO 2 ng_1.ims \n",
      "\n",
      "Opening writeable file: E:/ParadaKusz_Lab/IMS_Files\\gnas MO 2 ng_2.ims \n",
      "\n",
      "Opening writeable file: E:/ParadaKusz_Lab/IMS_Files\\gnas MO 2 ng_3.ims \n",
      "\n",
      "Opening writeable file: E:/ParadaKusz_Lab/IMS_Files\\gnas MO 2 ng_4.ims \n",
      "\n",
      "Opening writeable file: E:/ParadaKusz_Lab/IMS_Files\\gnas MO 2 ng_5.ims \n",
      "\n",
      "Opening writeable file: E:/ParadaKusz_Lab/IMS_Files\\gnas MO 2 ng_6.ims \n",
      "\n",
      "Opening writeable file: E:/ParadaKusz_Lab/IMS_Files\\gnas MO 2 ng_7.ims \n",
      "\n",
      "Opening writeable file: E:/ParadaKusz_Lab/IMS_Files\\gnas MO 2 ng_8.ims \n",
      "\n",
      "Flushing Buffers to Disk\n",
      "Closing file: E:/ParadaKusz_Lab/IMS_Files\\gnas MO 2 ng_8.ims \n",
      "\n",
      "Flushing Buffers to Disk\n",
      "Closing file: E:/ParadaKusz_Lab/IMS_Files\\gnas MO 2 ng_7.ims \n",
      "\n",
      "Flushing Buffers to Disk\n",
      "Closing file: E:/ParadaKusz_Lab/IMS_Files\\gnas MO 2 ng_6.ims \n",
      "\n",
      "Flushing Buffers to Disk\n",
      "Closing file: E:/ParadaKusz_Lab/IMS_Files\\gnas MO 2 ng_5.ims \n",
      "\n",
      "Flushing Buffers to Disk\n",
      "Closing file: E:/ParadaKusz_Lab/IMS_Files\\gnas MO 2 ng_4.ims \n",
      "\n",
      "Flushing Buffers to Disk\n",
      "Closing file: E:/ParadaKusz_Lab/IMS_Files\\gnas MO 2 ng_3.ims \n",
      "\n",
      "Flushing Buffers to Disk\n",
      "Closing file: E:/ParadaKusz_Lab/IMS_Files\\gnas MO 2 ng_2.ims \n",
      "\n",
      "Flushing Buffers to Disk\n",
      "Closing file: E:/ParadaKusz_Lab/IMS_Files\\gnas MO 2 ng_1.ims \n",
      "\n",
      "Flushing Buffers to Disk\n",
      "Closing file: E:/ParadaKusz_Lab/IMS_Files\\gnas MO 2 ng.ims \n",
      "\n",
      "Flushing Buffers to Disk\n",
      "Closing file: E:/ParadaKusz_Lab/IMS_Files\\gnas MO 1 ng_7.ims \n",
      "\n",
      "Flushing Buffers to Disk\n",
      "Closing file: E:/ParadaKusz_Lab/IMS_Files\\gnas MO 1 ng_6.ims \n",
      "\n",
      "Flushing Buffers to Disk\n",
      "Closing file: E:/ParadaKusz_Lab/IMS_Files\\gnas MO 1 ng_5.ims \n",
      "\n",
      "Flushing Buffers to Disk\n",
      "Closing file: E:/ParadaKusz_Lab/IMS_Files\\gnas MO 1 ng_4.ims \n",
      "\n",
      "Flushing Buffers to Disk\n",
      "Closing file: E:/ParadaKusz_Lab/IMS_Files\\gnas MO 1 ng_3.ims \n",
      "\n",
      "Flushing Buffers to Disk\n",
      "Closing file: E:/ParadaKusz_Lab/IMS_Files\\gnas MO 1 ng_2.ims \n",
      "\n",
      "Flushing Buffers to Disk\n",
      "Closing file: E:/ParadaKusz_Lab/IMS_Files\\gnas MO 1 ng_1.ims \n",
      "\n",
      "Flushing Buffers to Disk\n",
      "Closing file: E:/ParadaKusz_Lab/IMS_Files\\gnas MO 1 ng.ims \n",
      "\n",
      "Flushing Buffers to Disk\n",
      "Closing file: E:/ParadaKusz_Lab/IMS_Files\\control MO_7.ims \n",
      "\n",
      "Flushing Buffers to Disk\n",
      "Closing file: E:/ParadaKusz_Lab/IMS_Files\\control MO_6.ims \n",
      "\n",
      "Flushing Buffers to Disk\n",
      "Closing file: E:/ParadaKusz_Lab/IMS_Files\\control MO_5.ims \n",
      "\n",
      "Flushing Buffers to Disk\n",
      "Closing file: E:/ParadaKusz_Lab/IMS_Files\\control MO_4.ims \n",
      "\n",
      "Flushing Buffers to Disk\n",
      "Closing file: E:/ParadaKusz_Lab/IMS_Files\\control MO_3.ims \n",
      "\n",
      "Flushing Buffers to Disk\n",
      "Closing file: E:/ParadaKusz_Lab/IMS_Files\\control MO_2.ims \n",
      "\n",
      "Flushing Buffers to Disk\n",
      "Closing file: E:/ParadaKusz_Lab/IMS_Files\\control MO_1.ims \n",
      "\n",
      "Flushing Buffers to Disk\n",
      "Closing file: E:/ParadaKusz_Lab/IMS_Files\\control MO.ims \n",
      "\n"
     ]
    }
   ],
   "source": [
    "ims_files = sorted(glob('E:/ParadaKusz_Lab/IMS_Files/*.ims'))\n",
    "imgs = [ims(file,ResolutionLevelLock=0,write=True) for file in ims_files]\n",
    "all_img = [imgs[i][0,0,:,:,:] for i in range(len(imgs))]"
   ]
  },
  {
   "cell_type": "markdown",
   "id": "86fd8805-b110-4d8e-aa49-8fe15ac0805c",
   "metadata": {},
   "source": [
    "# Run Pipeline"
   ]
  },
  {
   "cell_type": "markdown",
   "id": "a4e6a796-4403-4a57-9e69-cbc5c313edc3",
   "metadata": {
    "jp-MarkdownHeadingCollapsed": true
   },
   "source": [
    "### Optional use of random integer generator if you want to test on single random images first"
   ]
  },
  {
   "cell_type": "code",
   "execution_count": 15,
   "id": "768e9a30-c021-47f9-875a-2d213c6d65f5",
   "metadata": {},
   "outputs": [],
   "source": [
    "import random\n",
    "nums = range(len(all_img))\n",
    "i = random.randint(min(nums),max(nums))"
   ]
  },
  {
   "cell_type": "code",
   "execution_count": 16,
   "id": "96130a84-5c8c-47d9-b435-de7689ef86a3",
   "metadata": {},
   "outputs": [],
   "source": [
    "tophat_radius = 10\n",
    "img = normalize_images(all_img[i],tophat_radius) #change the tophat_radius to increase or decrease the background as needed"
   ]
  },
  {
   "cell_type": "code",
   "execution_count": 17,
   "id": "6634c8b7-5eaa-4875-91dd-100f67170759",
   "metadata": {},
   "outputs": [
    {
     "name": "stdout",
     "output_type": "stream",
     "text": [
      "creating new log file\n",
      "2025-06-26 12:37:17,662 [INFO] WRITING LOG OUTPUT TO C:\\Users\\kristin.gallik\\.cellpose\\run.log\n",
      "2025-06-26 12:37:17,664 [INFO] \n",
      "cellpose version: \t3.1.1.2 \n",
      "platform:       \twin32 \n",
      "python version: \t3.10.16 \n",
      "torch version:  \t2.7.0+cu118\n",
      "2025-06-26 12:37:17,666 [INFO] >> Microglia_LargeZ_V2 << model set to be used\n",
      "2025-06-26 12:37:17,771 [INFO] ** TORCH CUDA version installed and working. **\n",
      "2025-06-26 12:37:17,773 [INFO] >>>> using GPU (CUDA)\n",
      "2025-06-26 12:37:17,874 [INFO] >>>> loading model C:\\Users\\kristin.gallik\\.cellpose\\models\\Microglia_LargeZ_V2\n",
      "2025-06-26 12:37:18,034 [INFO] >>>> model diam_mean =  30.000 (ROIs rescaled to this size during training)\n",
      "2025-06-26 12:37:18,035 [INFO] >>>> model diam_labels =  43.143 (mean diameter of training ROIs)\n",
      "2025-06-26 12:37:18,037 [INFO] multi-stack tiff read in as having 41 planes 1 channels\n",
      "2025-06-26 12:37:20,218 [INFO] 0%|          | 0/41 [00:00<?, ?it/s]\n",
      "2025-06-26 12:37:42,375 [INFO] 100%|##########| 41/41 [00:22<00:00,  1.85it/s]\n",
      "2025-06-26 12:37:44,280 [INFO] network run in 24.07s\n",
      "2025-06-26 12:37:44,286 [INFO] 0%|          | 0/41 [00:00<?, ?it/s]\n",
      "2025-06-26 12:37:44,313 [INFO] No cell pixels found.\n",
      "2025-06-26 12:38:10,068 [INFO] No cell pixels found.\n",
      "2025-06-26 12:38:10,341 [WARNING] no seeds found in get_masks_torch - no masks found.\n",
      "2025-06-26 12:38:10,948 [INFO] 100%|##########| 41/41 [00:26<00:00,  1.54it/s]\n",
      "2025-06-26 12:38:10,948 [INFO] stitching 41 planes using stitch_threshold=0.050 to make 3D masks\n"
     ]
    },
    {
     "name": "stderr",
     "output_type": "stream",
     "text": [
      "100%|██████████| 40/40 [00:02<00:00, 15.31it/s]\n"
     ]
    },
    {
     "name": "stdout",
     "output_type": "stream",
     "text": [
      "2025-06-26 12:38:16,020 [INFO] masks created in 31.73s\n"
     ]
    }
   ],
   "source": [
    "io.logger_setup()\n",
    "model = models.CellposeModel(gpu=True,model_type=\"Microglia_LargeZ_V2\") # model_type='cyto' or 'nuclei' or 'cyto2' or 'cyto3'\n",
    "channels =[[0,0]]\n",
    "masks, _, _ = model.eval(img, channels=channels, z_axis=0,stitch_threshold=0.05, flow_threshold=0.4,cellprob_threshold=0.0)"
   ]
  },
  {
   "cell_type": "code",
   "execution_count": 18,
   "id": "2f4c04b1-35f1-4d03-bf8c-3bcb4471abf4",
   "metadata": {},
   "outputs": [
    {
     "data": {
      "text/plain": [
       "<Image layer 'masks' at 0x2f814985150>"
      ]
     },
     "execution_count": 18,
     "metadata": {},
     "output_type": "execute_result"
    },
    {
     "name": "stdout",
     "output_type": "stream",
     "text": [
      "2025-06-26 12:38:58,272 [INFO] No OpenGL_accelerate module loaded: No module named 'OpenGL_accelerate'\n"
     ]
    }
   ],
   "source": [
    "#View results of segmentation in Napari\n",
    "viewer = napari.view_image(all_img[i], name='original img', scale = (4.55,0.3,0.3))\n",
    "viewer.add_image(img,name='normalized img', scale = (4.55,0.3,0.3))\n",
    "viewer.add_image(masks,name='masks', scale = (4.55,0.3,0.3))"
   ]
  },
  {
   "cell_type": "markdown",
   "id": "4594dcad-9b78-44c2-ab95-b68652bcceef",
   "metadata": {},
   "source": [
    "### Run pipeline on all images"
   ]
  },
  {
   "cell_type": "markdown",
   "id": "96f32b5d-bf9f-4593-9b6c-277e934dd82b",
   "metadata": {},
   "source": [
    "Set up a few parameters before running\n",
    "\n",
    "Properties that can be measured with scikit-image can be found here: [Scikit-image Region Properties](https://scikit-image.org/docs/dev/api/skimage.measure.html#skimage.measure.regionprops)"
   ]
  },
  {
   "cell_type": "code",
   "execution_count": 19,
   "id": "53f67b9e-a48b-43cd-937d-bc480e40eca1",
   "metadata": {},
   "outputs": [],
   "source": [
    "tophat_radius = 10\n",
    "voxel = [4.55,0.301,0.301]\n",
    "save_path = 'E:/ParadaKusz_Lab/Outputs/'\n",
    "props = ('label','area','intensity_mean','intensity_min','intensity_max')"
   ]
  },
  {
   "cell_type": "code",
   "execution_count": 21,
   "id": "82097fc6-7925-433b-8624-b20e5ba8800a",
   "metadata": {},
   "outputs": [
    {
     "name": "stderr",
     "output_type": "stream",
     "text": [
      "100%|██████████| 25/25 [04:26<00:00, 10.68s/it]\n"
     ]
    }
   ],
   "source": [
    "norm_imgs = [normalize_images(img,tophat_radius) for img in tqdm(all_img)]"
   ]
  },
  {
   "cell_type": "code",
   "execution_count": 22,
   "id": "6a765f90-2165-4b46-8cda-869c71109023",
   "metadata": {},
   "outputs": [
    {
     "name": "stdout",
     "output_type": "stream",
     "text": [
      "creating new log file\n",
      "2025-06-26 12:47:12,152 [INFO] WRITING LOG OUTPUT TO C:\\Users\\kristin.gallik\\.cellpose\\run.log\n",
      "2025-06-26 12:47:12,153 [INFO] \n",
      "cellpose version: \t3.1.1.2 \n",
      "platform:       \twin32 \n",
      "python version: \t3.10.16 \n",
      "torch version:  \t2.7.0+cu118\n",
      "2025-06-26 12:47:12,156 [INFO] >> Microglia_LargeZ_V2 << model set to be used\n",
      "2025-06-26 12:47:12,158 [INFO] ** TORCH CUDA version installed and working. **\n",
      "2025-06-26 12:47:12,159 [INFO] >>>> using GPU (CUDA)\n",
      "2025-06-26 12:47:12,254 [INFO] >>>> loading model C:\\Users\\kristin.gallik\\.cellpose\\models\\Microglia_LargeZ_V2\n",
      "2025-06-26 12:47:12,386 [INFO] >>>> model diam_mean =  30.000 (ROIs rescaled to this size during training)\n",
      "2025-06-26 12:47:12,387 [INFO] >>>> model diam_labels =  43.143 (mean diameter of training ROIs)\n",
      "2025-06-26 12:47:12,390 [INFO] 0%|          | 0/25 [00:00<?, ?it/s]\n",
      "2025-06-26 12:47:12,390 [INFO] multi-stack tiff read in as having 11 planes 1 channels\n",
      "2025-06-26 12:47:12,990 [INFO] \n",
      "2025-06-26 12:47:12,991 [INFO] 0%|          | 0/11 [00:00<?, ?it/s]\n",
      "2025-06-26 12:47:12,992 [INFO] \u001b[A\n",
      "2025-06-26 12:47:18,811 [INFO] 100%|##########| 11/11 [00:05<00:00,  1.89it/s]\n",
      "2025-06-26 12:47:19,342 [INFO] network run in 6.35s\n",
      "2025-06-26 12:47:19,343 [INFO] \n",
      "2025-06-26 12:47:19,345 [INFO] 0%|          | 0/11 [00:00<?, ?it/s]\n",
      "2025-06-26 12:47:19,346 [INFO] \u001b[A\n",
      "2025-06-26 12:47:19,371 [INFO] No cell pixels found.\n",
      "2025-06-26 12:47:19,437 [INFO] No cell pixels found.\n",
      "2025-06-26 12:47:19,478 [INFO] No cell pixels found.\n",
      "2025-06-26 12:47:19,518 [INFO] No cell pixels found.\n",
      "2025-06-26 12:47:19,560 [INFO] No cell pixels found.\n",
      "2025-06-26 12:47:19,601 [INFO] No cell pixels found.\n",
      "2025-06-26 12:47:22,664 [INFO] 100%|##########| 11/11 [00:03<00:00,  3.32it/s]\n",
      "2025-06-26 12:47:22,665 [INFO] stitching 11 planes using stitch_threshold=0.050 to make 3D masks\n"
     ]
    },
    {
     "name": "stderr",
     "output_type": "stream",
     "text": [
      "100%|██████████| 10/10 [00:00<00:00, 60.77it/s]\n"
     ]
    },
    {
     "name": "stdout",
     "output_type": "stream",
     "text": [
      "2025-06-26 12:47:23,481 [INFO] masks created in 4.14s\n",
      "2025-06-26 12:47:27,862 [INFO] multi-stack tiff read in as having 32 planes 1 channels\n",
      "2025-06-26 12:47:29,600 [INFO] \n",
      "2025-06-26 12:47:29,602 [INFO] 0%|          | 0/32 [00:00<?, ?it/s]\n",
      "2025-06-26 12:47:29,603 [INFO] \u001b[A\n",
      "2025-06-26 12:47:46,629 [INFO] 100%|##########| 32/32 [00:17<00:00,  1.88it/s]\n",
      "2025-06-26 12:47:48,134 [INFO] network run in 18.53s\n",
      "2025-06-26 12:47:48,136 [INFO] \n",
      "2025-06-26 12:47:48,137 [INFO] 0%|          | 0/32 [00:00<?, ?it/s]\n",
      "2025-06-26 12:47:48,139 [INFO] \u001b[A\n",
      "2025-06-26 12:48:07,934 [INFO] 100%|##########| 32/32 [00:19<00:00,  1.62it/s]\n",
      "2025-06-26 12:48:07,934 [INFO] stitching 32 planes using stitch_threshold=0.050 to make 3D masks\n"
     ]
    },
    {
     "name": "stderr",
     "output_type": "stream",
     "text": [
      "100%|██████████| 31/31 [00:01<00:00, 26.70it/s]\n"
     ]
    },
    {
     "name": "stdout",
     "output_type": "stream",
     "text": [
      "2025-06-26 12:48:11,066 [INFO] masks created in 22.93s\n",
      "2025-06-26 12:48:22,835 [INFO] 8%|8         | 2/25 [01:10<13:30, 35.22s/it]\n",
      "2025-06-26 12:48:22,836 [INFO] multi-stack tiff read in as having 35 planes 1 channels\n",
      "2025-06-26 12:48:24,664 [INFO] \n",
      "2025-06-26 12:48:24,666 [INFO] 0%|          | 0/35 [00:00<?, ?it/s]\n",
      "2025-06-26 12:48:24,668 [INFO] \u001b[A\n",
      "2025-06-26 12:48:43,174 [INFO] 100%|##########| 35/35 [00:18<00:00,  1.89it/s]\n",
      "2025-06-26 12:48:44,891 [INFO] network run in 20.23s\n",
      "2025-06-26 12:48:44,892 [INFO] \n",
      "2025-06-26 12:48:44,894 [INFO] 0%|          | 0/35 [00:00<?, ?it/s]\n",
      "2025-06-26 12:48:44,895 [INFO] \u001b[A\n",
      "2025-06-26 12:49:06,748 [INFO] 100%|##########| 35/35 [00:21<00:00,  1.60it/s]\n",
      "2025-06-26 12:49:06,750 [INFO] stitching 35 planes using stitch_threshold=0.050 to make 3D masks\n"
     ]
    },
    {
     "name": "stderr",
     "output_type": "stream",
     "text": [
      "100%|██████████| 34/34 [00:01<00:00, 24.49it/s]\n"
     ]
    },
    {
     "name": "stdout",
     "output_type": "stream",
     "text": [
      "2025-06-26 12:49:10,339 [INFO] masks created in 25.45s\n",
      "2025-06-26 12:49:23,377 [INFO] 12%|#2        | 3/25 [02:10<16:46, 45.77s/it]\n",
      "2025-06-26 12:49:23,379 [INFO] multi-stack tiff read in as having 31 planes 1 channels\n",
      "2025-06-26 12:49:24,973 [INFO] \n",
      "2025-06-26 12:49:24,974 [INFO] 0%|          | 0/31 [00:00<?, ?it/s]\n",
      "2025-06-26 12:49:24,976 [INFO] \u001b[A\n",
      "2025-06-26 12:49:41,492 [INFO] 100%|##########| 31/31 [00:16<00:00,  1.88it/s]\n",
      "2025-06-26 12:49:43,008 [INFO] network run in 18.03s\n",
      "2025-06-26 12:49:43,010 [INFO] \n",
      "2025-06-26 12:49:43,011 [INFO] 0%|          | 0/31 [00:00<?, ?it/s]\n",
      "2025-06-26 12:49:43,013 [INFO] \u001b[A\n",
      "2025-06-26 12:50:02,201 [INFO] 100%|##########| 31/31 [00:19<00:00,  1.62it/s]\n",
      "2025-06-26 12:50:02,202 [INFO] stitching 31 planes using stitch_threshold=0.050 to make 3D masks\n"
     ]
    },
    {
     "name": "stderr",
     "output_type": "stream",
     "text": [
      "100%|██████████| 30/30 [00:01<00:00, 29.29it/s]\n"
     ]
    },
    {
     "name": "stdout",
     "output_type": "stream",
     "text": [
      "2025-06-26 12:50:05,215 [INFO] masks created in 22.21s\n",
      "2025-06-26 12:50:16,915 [INFO] 16%|#6        | 4/25 [03:04<17:02, 48.67s/it]\n",
      "2025-06-26 12:50:16,917 [INFO] multi-stack tiff read in as having 33 planes 1 channels\n",
      "2025-06-26 12:50:18,678 [INFO] \n",
      "2025-06-26 12:50:18,680 [INFO] 0%|          | 0/33 [00:00<?, ?it/s]\n",
      "2025-06-26 12:50:18,681 [INFO] \u001b[A\n",
      "2025-06-26 12:50:36,231 [INFO] 100%|##########| 33/33 [00:17<00:00,  1.88it/s]\n",
      "2025-06-26 12:50:37,843 [INFO] network run in 19.17s\n",
      "2025-06-26 12:50:37,845 [INFO] \n",
      "2025-06-26 12:50:37,847 [INFO] 0%|          | 0/33 [00:00<?, ?it/s]\n",
      "2025-06-26 12:50:37,848 [INFO] \u001b[A\n",
      "2025-06-26 12:50:37,866 [INFO] No cell pixels found.\n",
      "2025-06-26 12:50:58,155 [INFO] 100%|##########| 33/33 [00:20<00:00,  1.63it/s]\n",
      "2025-06-26 12:50:58,156 [INFO] stitching 33 planes using stitch_threshold=0.050 to make 3D masks\n"
     ]
    },
    {
     "name": "stderr",
     "output_type": "stream",
     "text": [
      "100%|██████████| 32/32 [00:01<00:00, 27.22it/s]\n"
     ]
    },
    {
     "name": "stdout",
     "output_type": "stream",
     "text": [
      "2025-06-26 12:51:01,290 [INFO] masks created in 23.44s\n",
      "2025-06-26 12:51:12,510 [INFO] 20%|##        | 5/25 [04:00<17:01, 51.08s/it]\n",
      "2025-06-26 12:51:12,512 [INFO] multi-stack tiff read in as having 27 planes 1 channels\n",
      "2025-06-26 12:51:13,870 [INFO] \n",
      "2025-06-26 12:51:13,871 [INFO] 0%|          | 0/27 [00:00<?, ?it/s]\n",
      "2025-06-26 12:51:13,872 [INFO] \u001b[A\n",
      "2025-06-26 12:51:28,196 [INFO] 100%|##########| 27/27 [00:14<00:00,  1.89it/s]\n",
      "2025-06-26 12:51:29,570 [INFO] network run in 15.70s\n",
      "2025-06-26 12:51:29,571 [INFO] \n",
      "2025-06-26 12:51:29,574 [INFO] 0%|          | 0/27 [00:00<?, ?it/s]\n",
      "2025-06-26 12:51:29,575 [INFO] \u001b[A\n",
      "2025-06-26 12:51:46,671 [INFO] 100%|##########| 27/27 [00:17<00:00,  1.58it/s]\n",
      "2025-06-26 12:51:46,674 [INFO] stitching 27 planes using stitch_threshold=0.050 to make 3D masks\n"
     ]
    },
    {
     "name": "stderr",
     "output_type": "stream",
     "text": [
      "100%|██████████| 26/26 [00:00<00:00, 29.31it/s]\n"
     ]
    },
    {
     "name": "stdout",
     "output_type": "stream",
     "text": [
      "2025-06-26 12:51:49,238 [INFO] masks created in 19.67s\n",
      "2025-06-26 12:51:59,508 [INFO] 24%|##4       | 6/25 [04:47<15:44, 49.72s/it]\n",
      "2025-06-26 12:51:59,510 [INFO] multi-stack tiff read in as having 43 planes 1 channels\n",
      "2025-06-26 12:52:01,882 [INFO] \n",
      "2025-06-26 12:52:01,884 [INFO] 0%|          | 0/43 [00:00<?, ?it/s]\n",
      "2025-06-26 12:52:01,886 [INFO] \u001b[A\n",
      "2025-06-26 12:52:24,679 [INFO] 100%|##########| 43/43 [00:22<00:00,  1.89it/s]\n",
      "2025-06-26 12:52:26,614 [INFO] network run in 24.73s\n",
      "2025-06-26 12:52:26,615 [INFO] \n",
      "2025-06-26 12:52:26,617 [INFO] 0%|          | 0/43 [00:00<?, ?it/s]\n",
      "2025-06-26 12:52:26,618 [INFO] \u001b[A\n",
      "2025-06-26 12:52:53,877 [INFO] 100%|##########| 43/43 [00:27<00:00,  1.58it/s]\n",
      "2025-06-26 12:52:53,879 [INFO] stitching 43 planes using stitch_threshold=0.050 to make 3D masks\n"
     ]
    },
    {
     "name": "stderr",
     "output_type": "stream",
     "text": [
      "100%|██████████| 42/42 [00:01<00:00, 28.76it/s]\n"
     ]
    },
    {
     "name": "stdout",
     "output_type": "stream",
     "text": [
      "2025-06-26 12:52:57,809 [INFO] masks created in 31.19s\n",
      "2025-06-26 12:53:13,502 [INFO] 28%|##8       | 7/25 [06:01<17:15, 57.53s/it]\n",
      "2025-06-26 12:53:13,504 [INFO] multi-stack tiff read in as having 34 planes 1 channels\n",
      "2025-06-26 12:53:15,328 [INFO] \n",
      "2025-06-26 12:53:15,330 [INFO] 0%|          | 0/34 [00:00<?, ?it/s]\n",
      "2025-06-26 12:53:15,331 [INFO] \u001b[A\n",
      "2025-06-26 12:53:33,367 [INFO] 100%|##########| 34/34 [00:18<00:00,  1.89it/s]\n",
      "2025-06-26 12:53:34,959 [INFO] network run in 19.63s\n",
      "2025-06-26 12:53:34,961 [INFO] \n",
      "2025-06-26 12:53:34,963 [INFO] 0%|          | 0/34 [00:00<?, ?it/s]\n",
      "2025-06-26 12:53:34,964 [INFO] \u001b[A\n",
      "2025-06-26 12:53:56,477 [INFO] 100%|##########| 34/34 [00:21<00:00,  1.58it/s]\n",
      "2025-06-26 12:53:56,478 [INFO] stitching 34 planes using stitch_threshold=0.050 to make 3D masks\n"
     ]
    },
    {
     "name": "stderr",
     "output_type": "stream",
     "text": [
      "100%|██████████| 33/33 [00:01<00:00, 29.88it/s]\n"
     ]
    },
    {
     "name": "stdout",
     "output_type": "stream",
     "text": [
      "2025-06-26 12:53:59,609 [INFO] masks created in 24.65s\n",
      "2025-06-26 12:54:11,718 [INFO] 32%|###2      | 8/25 [06:59<16:21, 57.75s/it]\n",
      "2025-06-26 12:54:11,720 [INFO] multi-stack tiff read in as having 39 planes 1 channels\n",
      "2025-06-26 12:54:13,774 [INFO] \n",
      "2025-06-26 12:54:13,775 [INFO] 0%|          | 0/39 [00:00<?, ?it/s]\n",
      "2025-06-26 12:54:13,776 [INFO] \u001b[A\n",
      "2025-06-26 12:54:34,257 [INFO] 100%|##########| 39/39 [00:20<00:00,  1.90it/s]\n",
      "2025-06-26 12:54:36,052 [INFO] network run in 22.28s\n",
      "2025-06-26 12:54:36,054 [INFO] \n",
      "2025-06-26 12:54:36,056 [INFO] 0%|          | 0/39 [00:00<?, ?it/s]\n",
      "2025-06-26 12:54:36,058 [INFO] \u001b[A\n",
      "2025-06-26 12:55:00,609 [INFO] 100%|##########| 39/39 [00:24<00:00,  1.59it/s]\n",
      "2025-06-26 12:55:00,610 [INFO] stitching 39 planes using stitch_threshold=0.050 to make 3D masks\n"
     ]
    },
    {
     "name": "stderr",
     "output_type": "stream",
     "text": [
      "100%|██████████| 38/38 [00:01<00:00, 28.67it/s]\n"
     ]
    },
    {
     "name": "stdout",
     "output_type": "stream",
     "text": [
      "2025-06-26 12:55:04,397 [INFO] masks created in 28.34s\n",
      "2025-06-26 12:55:19,432 [INFO] 36%|###6      | 9/25 [08:07<16:13, 60.84s/it]\n",
      "2025-06-26 12:55:19,434 [INFO] multi-stack tiff read in as having 42 planes 1 channels\n",
      "2025-06-26 12:55:21,610 [INFO] \n",
      "2025-06-26 12:55:21,611 [INFO] 0%|          | 0/42 [00:00<?, ?it/s]\n",
      "2025-06-26 12:55:21,611 [INFO] \u001b[A\n",
      "2025-06-26 12:55:43,836 [INFO] 100%|##########| 42/42 [00:22<00:00,  1.89it/s]\n",
      "2025-06-26 12:55:45,863 [INFO] network run in 24.25s\n",
      "2025-06-26 12:55:45,865 [INFO] \n",
      "2025-06-26 12:55:45,867 [INFO] 0%|          | 0/42 [00:00<?, ?it/s]\n",
      "2025-06-26 12:55:45,869 [INFO] \u001b[A\n",
      "2025-06-26 12:55:45,891 [INFO] No cell pixels found.\n",
      "2025-06-26 12:56:01,452 [WARNING] no seeds found in get_masks_torch - no masks found.\n",
      "2025-06-26 12:56:08,478 [INFO] No cell pixels found.\n",
      "2025-06-26 12:56:09,133 [INFO] 100%|##########| 42/42 [00:23<00:00,  1.81it/s]\n",
      "2025-06-26 12:56:09,134 [INFO] stitching 42 planes using stitch_threshold=0.050 to make 3D masks\n"
     ]
    },
    {
     "name": "stderr",
     "output_type": "stream",
     "text": [
      "100%|██████████| 41/41 [00:01<00:00, 27.86it/s]\n"
     ]
    },
    {
     "name": "stdout",
     "output_type": "stream",
     "text": [
      "2025-06-26 12:56:13,119 [INFO] masks created in 27.25s\n",
      "2025-06-26 12:56:28,515 [INFO] 40%|####      | 10/25 [09:16<15:50, 63.37s/it]\n",
      "2025-06-26 12:56:28,516 [INFO] multi-stack tiff read in as having 41 planes 1 channels\n",
      "2025-06-26 12:56:30,804 [INFO] \n",
      "2025-06-26 12:56:30,806 [INFO] 0%|          | 0/41 [00:00<?, ?it/s]\n",
      "2025-06-26 12:56:30,806 [INFO] \u001b[A\n",
      "2025-06-26 12:56:52,466 [INFO] 100%|##########| 41/41 [00:21<00:00,  1.89it/s]\n",
      "2025-06-26 12:56:54,404 [INFO] network run in 23.60s\n",
      "2025-06-26 12:56:54,405 [INFO] \n",
      "2025-06-26 12:56:54,406 [INFO] 0%|          | 0/41 [00:00<?, ?it/s]\n",
      "2025-06-26 12:56:54,408 [INFO] \u001b[A\n",
      "2025-06-26 12:56:54,418 [INFO] No cell pixels found.\n",
      "2025-06-26 12:57:16,738 [INFO] No cell pixels found.\n",
      "2025-06-26 12:57:16,980 [WARNING] no seeds found in get_masks_torch - no masks found.\n",
      "2025-06-26 12:57:17,595 [INFO] 100%|##########| 41/41 [00:23<00:00,  1.77it/s]\n",
      "2025-06-26 12:57:17,597 [INFO] stitching 41 planes using stitch_threshold=0.050 to make 3D masks\n"
     ]
    },
    {
     "name": "stderr",
     "output_type": "stream",
     "text": [
      "100%|██████████| 40/40 [00:01<00:00, 28.75it/s]\n"
     ]
    },
    {
     "name": "stdout",
     "output_type": "stream",
     "text": [
      "2025-06-26 12:57:21,540 [INFO] masks created in 27.13s\n",
      "2025-06-26 12:57:36,524 [INFO] 44%|####4     | 11/25 [10:24<15:06, 64.78s/it]\n",
      "2025-06-26 12:57:36,527 [INFO] multi-stack tiff read in as having 41 planes 1 channels\n",
      "2025-06-26 12:57:38,652 [INFO] \n",
      "2025-06-26 12:57:38,654 [INFO] 0%|          | 0/41 [00:00<?, ?it/s]\n",
      "2025-06-26 12:57:38,656 [INFO] \u001b[A\n",
      "2025-06-26 12:58:00,355 [INFO] 100%|##########| 41/41 [00:21<00:00,  1.89it/s]\n",
      "2025-06-26 12:58:02,188 [INFO] network run in 23.54s\n",
      "2025-06-26 12:58:02,190 [INFO] \n",
      "2025-06-26 12:58:02,191 [INFO] 0%|          | 0/41 [00:00<?, ?it/s]\n",
      "2025-06-26 12:58:02,192 [INFO] \u001b[A\n",
      "2025-06-26 12:58:05,068 [INFO] No cell pixels found.\n",
      "2025-06-26 12:58:06,203 [INFO] No cell pixels found.\n",
      "2025-06-26 12:58:06,259 [INFO] No cell pixels found.\n",
      "2025-06-26 12:58:07,931 [INFO] No cell pixels found.\n",
      "2025-06-26 12:58:07,971 [INFO] No cell pixels found.\n",
      "2025-06-26 12:58:08,010 [INFO] No cell pixels found.\n",
      "2025-06-26 12:58:08,049 [INFO] No cell pixels found.\n",
      "2025-06-26 12:58:08,099 [INFO] No cell pixels found.\n",
      "2025-06-26 12:58:08,143 [INFO] No cell pixels found.\n",
      "2025-06-26 12:58:10,614 [INFO] No cell pixels found.\n",
      "2025-06-26 12:58:10,665 [INFO] No cell pixels found.\n",
      "2025-06-26 12:58:12,513 [INFO] No cell pixels found.\n",
      "2025-06-26 12:58:12,568 [INFO] No cell pixels found.\n",
      "2025-06-26 12:58:12,616 [INFO] No cell pixels found.\n",
      "2025-06-26 12:58:12,657 [INFO] No cell pixels found.\n",
      "2025-06-26 12:58:12,696 [INFO] No cell pixels found.\n",
      "2025-06-26 12:58:12,735 [INFO] No cell pixels found.\n",
      "2025-06-26 12:58:12,774 [INFO] No cell pixels found.\n",
      "2025-06-26 12:58:12,821 [INFO] No cell pixels found.\n",
      "2025-06-26 12:58:12,859 [INFO] No cell pixels found.\n",
      "2025-06-26 12:58:12,898 [INFO] No cell pixels found.\n",
      "2025-06-26 12:58:12,938 [INFO] No cell pixels found.\n",
      "2025-06-26 12:58:12,978 [INFO] No cell pixels found.\n",
      "2025-06-26 12:58:13,018 [INFO] No cell pixels found.\n",
      "2025-06-26 12:58:13,077 [INFO] 100%|##########| 41/41 [00:10<00:00,  3.77it/s]\n",
      "2025-06-26 12:58:13,079 [INFO] stitching 41 planes using stitch_threshold=0.050 to make 3D masks\n"
     ]
    },
    {
     "name": "stderr",
     "output_type": "stream",
     "text": [
      "100%|██████████| 40/40 [00:01<00:00, 26.26it/s]\n"
     ]
    },
    {
     "name": "stdout",
     "output_type": "stream",
     "text": [
      "2025-06-26 12:58:17,042 [INFO] masks created in 14.85s\n",
      "2025-06-26 12:58:31,506 [INFO] 48%|####8     | 12/25 [11:19<13:23, 61.81s/it]\n",
      "2025-06-26 12:58:31,507 [INFO] multi-stack tiff read in as having 52 planes 1 channels\n",
      "2025-06-26 12:58:34,186 [INFO] \n",
      "2025-06-26 12:58:34,188 [INFO] 0%|          | 0/52 [00:00<?, ?it/s]\n",
      "2025-06-26 12:58:34,189 [INFO] \u001b[A\n",
      "2025-06-26 12:59:01,511 [INFO] 100%|##########| 52/52 [00:27<00:00,  1.90it/s]\n",
      "2025-06-26 12:59:03,904 [INFO] network run in 29.72s\n",
      "2025-06-26 12:59:03,906 [INFO] \n",
      "2025-06-26 12:59:03,908 [INFO] 0%|          | 0/52 [00:00<?, ?it/s]\n",
      "2025-06-26 12:59:03,909 [INFO] \u001b[A\n",
      "2025-06-26 12:59:03,921 [INFO] No cell pixels found.\n",
      "2025-06-26 12:59:21,771 [INFO] No cell pixels found.\n",
      "2025-06-26 12:59:24,237 [INFO] No cell pixels found.\n",
      "2025-06-26 12:59:26,327 [WARNING] no seeds found in get_masks_torch - no masks found.\n",
      "2025-06-26 12:59:26,376 [INFO] No cell pixels found.\n",
      "2025-06-26 12:59:26,422 [INFO] No cell pixels found.\n",
      "2025-06-26 12:59:26,461 [INFO] No cell pixels found.\n",
      "2025-06-26 12:59:29,998 [INFO] No cell pixels found.\n",
      "2025-06-26 12:59:30,062 [INFO] No cell pixels found.\n",
      "2025-06-26 12:59:30,093 [INFO] 100%|##########| 52/52 [00:26<00:00,  1.99it/s]\n",
      "2025-06-26 12:59:30,094 [INFO] stitching 52 planes using stitch_threshold=0.050 to make 3D masks\n"
     ]
    },
    {
     "name": "stderr",
     "output_type": "stream",
     "text": [
      "100%|██████████| 51/51 [00:01<00:00, 26.94it/s]\n"
     ]
    },
    {
     "name": "stdout",
     "output_type": "stream",
     "text": [
      "2025-06-26 12:59:34,811 [INFO] masks created in 30.90s\n",
      "2025-06-26 12:59:52,717 [INFO] 52%|#####2    | 13/25 [12:40<13:32, 67.68s/it]\n",
      "2025-06-26 12:59:52,719 [INFO] multi-stack tiff read in as having 48 planes 1 channels\n",
      "2025-06-26 12:59:55,357 [INFO] \n",
      "2025-06-26 12:59:55,359 [INFO] 0%|          | 0/48 [00:00<?, ?it/s]\n",
      "2025-06-26 12:59:55,361 [INFO] \u001b[A\n",
      "2025-06-26 13:00:20,536 [INFO] 100%|##########| 48/48 [00:25<00:00,  1.91it/s]\n",
      "2025-06-26 13:00:22,854 [INFO] network run in 27.50s\n",
      "2025-06-26 13:00:22,856 [INFO] \n",
      "2025-06-26 13:00:22,858 [INFO] 0%|          | 0/48 [00:00<?, ?it/s]\n",
      "2025-06-26 13:00:22,859 [INFO] \u001b[A\n",
      "2025-06-26 13:00:23,965 [INFO] No cell pixels found.\n",
      "2025-06-26 13:00:51,079 [INFO] 100%|##########| 48/48 [00:28<00:00,  1.70it/s]\n",
      "2025-06-26 13:00:51,081 [INFO] stitching 48 planes using stitch_threshold=0.050 to make 3D masks\n"
     ]
    },
    {
     "name": "stderr",
     "output_type": "stream",
     "text": [
      "100%|██████████| 47/47 [00:01<00:00, 28.69it/s]\n"
     ]
    },
    {
     "name": "stdout",
     "output_type": "stream",
     "text": [
      "2025-06-26 13:00:55,527 [INFO] masks created in 32.67s\n",
      "2025-06-26 13:01:12,549 [INFO] 56%|#####6    | 14/25 [14:00<13:04, 71.34s/it]\n",
      "2025-06-26 13:01:12,551 [INFO] multi-stack tiff read in as having 46 planes 1 channels\n",
      "2025-06-26 13:01:14,980 [INFO] \n",
      "2025-06-26 13:01:14,982 [INFO] 0%|          | 0/46 [00:00<?, ?it/s]\n",
      "2025-06-26 13:01:14,984 [INFO] \u001b[A\n",
      "2025-06-26 13:01:39,079 [INFO] 100%|##########| 46/46 [00:24<00:00,  1.91it/s]\n",
      "2025-06-26 13:01:41,244 [INFO] network run in 26.26s\n",
      "2025-06-26 13:01:41,246 [INFO] \n",
      "2025-06-26 13:01:41,249 [INFO] 0%|          | 0/46 [00:00<?, ?it/s]\n",
      "2025-06-26 13:01:41,252 [INFO] \u001b[A\n",
      "2025-06-26 13:02:10,031 [INFO] 100%|##########| 46/46 [00:28<00:00,  1.60it/s]\n",
      "2025-06-26 13:02:10,033 [INFO] stitching 46 planes using stitch_threshold=0.050 to make 3D masks\n"
     ]
    },
    {
     "name": "stderr",
     "output_type": "stream",
     "text": [
      "100%|██████████| 45/45 [00:01<00:00, 27.82it/s]\n"
     ]
    },
    {
     "name": "stdout",
     "output_type": "stream",
     "text": [
      "2025-06-26 13:02:14,357 [INFO] masks created in 33.11s\n",
      "2025-06-26 13:02:31,249 [INFO] 60%|######    | 15/25 [15:18<12:15, 73.56s/it]\n",
      "2025-06-26 13:02:31,250 [INFO] multi-stack tiff read in as having 28 planes 1 channels\n",
      "2025-06-26 13:02:32,843 [INFO] \n",
      "2025-06-26 13:02:32,845 [INFO] 0%|          | 0/28 [00:00<?, ?it/s]\n",
      "2025-06-26 13:02:32,847 [INFO] \u001b[A\n",
      "2025-06-26 13:02:47,669 [INFO] 100%|##########| 28/28 [00:14<00:00,  1.89it/s]\n",
      "2025-06-26 13:02:49,029 [INFO] network run in 16.19s\n",
      "2025-06-26 13:02:49,030 [INFO] \n",
      "2025-06-26 13:02:49,033 [INFO] 0%|          | 0/28 [00:00<?, ?it/s]\n",
      "2025-06-26 13:02:49,034 [INFO] \u001b[A\n",
      "2025-06-26 13:02:49,046 [INFO] No cell pixels found.\n",
      "2025-06-26 13:02:57,629 [INFO] No cell pixels found.\n",
      "2025-06-26 13:03:04,351 [INFO] 100%|##########| 28/28 [00:15<00:00,  1.83it/s]\n",
      "2025-06-26 13:03:04,353 [INFO] stitching 28 planes using stitch_threshold=0.050 to make 3D masks\n"
     ]
    },
    {
     "name": "stderr",
     "output_type": "stream",
     "text": [
      "100%|██████████| 27/27 [00:00<00:00, 31.94it/s]\n"
     ]
    },
    {
     "name": "stdout",
     "output_type": "stream",
     "text": [
      "2025-06-26 13:03:06,856 [INFO] masks created in 17.83s\n",
      "2025-06-26 13:03:17,437 [INFO] 64%|######4   | 16/25 [16:05<09:47, 65.33s/it]\n",
      "2025-06-26 13:03:17,439 [INFO] multi-stack tiff read in as having 55 planes 1 channels\n",
      "2025-06-26 13:03:20,594 [INFO] \n",
      "2025-06-26 13:03:20,596 [INFO] 0%|          | 0/55 [00:00<?, ?it/s]\n",
      "2025-06-26 13:03:20,596 [INFO] \u001b[A\n",
      "2025-06-26 13:03:49,514 [INFO] 100%|##########| 55/55 [00:28<00:00,  1.90it/s]\n",
      "2025-06-26 13:03:51,982 [INFO] network run in 31.39s\n",
      "2025-06-26 13:03:51,983 [INFO] \n",
      "2025-06-26 13:03:51,985 [INFO] 0%|          | 0/55 [00:00<?, ?it/s]\n",
      "2025-06-26 13:03:51,987 [INFO] \u001b[A\n",
      "2025-06-26 13:03:52,490 [INFO] No cell pixels found.\n",
      "2025-06-26 13:03:56,802 [WARNING] no seeds found in get_masks_torch - no masks found.\n",
      "2025-06-26 13:04:22,213 [INFO] \n",
      "2025-06-26 13:04:22,215 [INFO] 95%|#########4| 52/55 [00:30<00:01,  1.72it/s]\n",
      "2025-06-26 13:04:22,217 [INFO] \u001b[A\n",
      "2025-06-26 13:04:24,032 [INFO] 100%|##########| 55/55 [00:32<00:00,  1.72it/s]\n",
      "2025-06-26 13:04:24,034 [INFO] stitching 55 planes using stitch_threshold=0.050 to make 3D masks\n"
     ]
    },
    {
     "name": "stderr",
     "output_type": "stream",
     "text": [
      "100%|██████████| 54/54 [00:01<00:00, 27.48it/s]\n"
     ]
    },
    {
     "name": "stdout",
     "output_type": "stream",
     "text": [
      "2025-06-26 13:04:29,210 [INFO] masks created in 37.23s\n",
      "2025-06-26 13:04:48,935 [INFO] 68%|######8   | 17/25 [17:36<09:45, 73.19s/it]\n",
      "2025-06-26 13:04:48,937 [INFO] multi-stack tiff read in as having 44 planes 1 channels\n",
      "2025-06-26 13:04:51,310 [INFO] \n",
      "2025-06-26 13:04:51,311 [INFO] 0%|          | 0/44 [00:00<?, ?it/s]\n",
      "2025-06-26 13:04:51,313 [INFO] \u001b[A\n",
      "2025-06-26 13:05:14,423 [INFO] 100%|##########| 44/44 [00:23<00:00,  1.90it/s]\n",
      "2025-06-26 13:05:16,411 [INFO] network run in 25.10s\n",
      "2025-06-26 13:05:16,412 [INFO] \n",
      "2025-06-26 13:05:16,415 [INFO] 0%|          | 0/44 [00:00<?, ?it/s]\n",
      "2025-06-26 13:05:16,417 [INFO] \u001b[A\n",
      "2025-06-26 13:05:16,437 [INFO] No cell pixels found.\n",
      "2025-06-26 13:05:16,486 [INFO] No cell pixels found.\n",
      "2025-06-26 13:05:16,525 [INFO] No cell pixels found.\n",
      "2025-06-26 13:05:17,583 [INFO] No cell pixels found.\n",
      "2025-06-26 13:05:36,346 [INFO] No cell pixels found.\n",
      "2025-06-26 13:05:38,971 [INFO] No cell pixels found.\n",
      "2025-06-26 13:05:39,016 [INFO] No cell pixels found.\n",
      "2025-06-26 13:05:39,053 [INFO] 100%|##########| 44/44 [00:22<00:00,  1.94it/s]\n",
      "2025-06-26 13:05:39,055 [INFO] stitching 44 planes using stitch_threshold=0.050 to make 3D masks\n"
     ]
    },
    {
     "name": "stderr",
     "output_type": "stream",
     "text": [
      "100%|██████████| 43/43 [00:01<00:00, 29.19it/s]\n"
     ]
    },
    {
     "name": "stdout",
     "output_type": "stream",
     "text": [
      "2025-06-26 13:05:43,318 [INFO] masks created in 26.91s\n",
      "2025-06-26 13:06:00,212 [INFO] 72%|#######2  | 18/25 [18:47<08:28, 72.62s/it]\n",
      "2025-06-26 13:06:00,214 [INFO] multi-stack tiff read in as having 58 planes 1 channels\n",
      "2025-06-26 13:06:03,261 [INFO] \n",
      "2025-06-26 13:06:03,263 [INFO] 0%|          | 0/58 [00:00<?, ?it/s]\n",
      "2025-06-26 13:06:03,264 [INFO] \u001b[A\n",
      "2025-06-26 13:06:33,668 [INFO] \n",
      "2025-06-26 13:06:33,669 [INFO] 98%|#########8| 57/58 [00:30<00:00,  1.87it/s]\n",
      "2025-06-26 13:06:33,671 [INFO] \u001b[A\n",
      "2025-06-26 13:06:34,212 [INFO] 100%|##########| 58/58 [00:30<00:00,  1.87it/s]\n",
      "2025-06-26 13:06:37,212 [INFO] network run in 33.95s\n",
      "2025-06-26 13:06:37,214 [INFO] \n",
      "2025-06-26 13:06:37,216 [INFO] 0%|          | 0/58 [00:00<?, ?it/s]\n",
      "2025-06-26 13:06:37,217 [INFO] \u001b[A\n",
      "2025-06-26 13:06:37,230 [INFO] No cell pixels found.\n",
      "2025-06-26 13:07:07,251 [INFO] \n",
      "2025-06-26 13:07:07,253 [INFO] 88%|########7 | 51/58 [00:30<00:04,  1.70it/s]\n",
      "2025-06-26 13:07:07,254 [INFO] \u001b[A\n",
      "2025-06-26 13:07:11,099 [WARNING] no seeds found in get_masks_torch - no masks found.\n",
      "2025-06-26 13:07:11,137 [INFO] 100%|##########| 58/58 [00:33<00:00,  1.71it/s]\n",
      "2025-06-26 13:07:11,138 [INFO] stitching 58 planes using stitch_threshold=0.050 to make 3D masks\n"
     ]
    },
    {
     "name": "stderr",
     "output_type": "stream",
     "text": [
      "100%|██████████| 57/57 [00:02<00:00, 26.69it/s]\n"
     ]
    },
    {
     "name": "stdout",
     "output_type": "stream",
     "text": [
      "2025-06-26 13:07:16,650 [INFO] masks created in 39.44s\n",
      "2025-06-26 13:07:39,000 [INFO] 76%|#######6  | 19/25 [20:26<08:02, 80.48s/it]\n",
      "2025-06-26 13:07:39,003 [INFO] multi-stack tiff read in as having 59 planes 1 channels\n",
      "2025-06-26 13:07:42,196 [INFO] \n",
      "2025-06-26 13:07:42,197 [INFO] 0%|          | 0/59 [00:00<?, ?it/s]\n",
      "2025-06-26 13:07:42,199 [INFO] \u001b[A\n",
      "2025-06-26 13:08:12,245 [INFO] \n",
      "2025-06-26 13:08:12,246 [INFO] 97%|#########6| 57/59 [00:30<00:01,  1.90it/s]\n",
      "2025-06-26 13:08:12,247 [INFO] \u001b[A\n",
      "2025-06-26 13:08:13,301 [INFO] 100%|##########| 59/59 [00:31<00:00,  1.90it/s]\n",
      "2025-06-26 13:08:16,188 [INFO] network run in 33.99s\n",
      "2025-06-26 13:08:16,189 [INFO] \n",
      "2025-06-26 13:08:16,190 [INFO] 0%|          | 0/59 [00:00<?, ?it/s]\n",
      "2025-06-26 13:08:16,193 [INFO] \u001b[A\n",
      "2025-06-26 13:08:43,207 [INFO] No cell pixels found.\n",
      "2025-06-26 13:08:43,271 [INFO] No cell pixels found.\n",
      "2025-06-26 13:08:46,395 [INFO] \n",
      "2025-06-26 13:08:46,396 [INFO] 85%|########4 | 50/59 [00:30<00:05,  1.66it/s]\n",
      "2025-06-26 13:08:46,397 [INFO] \u001b[A\n",
      "2025-06-26 13:08:50,621 [INFO] No cell pixels found.\n",
      "2025-06-26 13:08:50,674 [INFO] No cell pixels found.\n",
      "2025-06-26 13:08:50,705 [INFO] 100%|##########| 59/59 [00:34<00:00,  1.71it/s]\n",
      "2025-06-26 13:08:50,706 [INFO] stitching 59 planes using stitch_threshold=0.050 to make 3D masks\n"
     ]
    },
    {
     "name": "stderr",
     "output_type": "stream",
     "text": [
      "100%|██████████| 58/58 [00:02<00:00, 27.23it/s]\n"
     ]
    },
    {
     "name": "stdout",
     "output_type": "stream",
     "text": [
      "2025-06-26 13:08:56,233 [INFO] masks created in 40.04s\n",
      "2025-06-26 13:09:16,335 [INFO] 80%|########  | 20/25 [22:03<07:07, 85.54s/it]\n",
      "2025-06-26 13:09:16,337 [INFO] multi-stack tiff read in as having 35 planes 1 channels\n",
      "2025-06-26 13:09:18,263 [INFO] \n",
      "2025-06-26 13:09:18,265 [INFO] 0%|          | 0/35 [00:00<?, ?it/s]\n",
      "2025-06-26 13:09:18,266 [INFO] \u001b[A\n",
      "2025-06-26 13:09:36,556 [INFO] 100%|##########| 35/35 [00:18<00:00,  1.91it/s]\n",
      "2025-06-26 13:09:38,171 [INFO] network run in 19.91s\n",
      "2025-06-26 13:09:38,172 [INFO] \n",
      "2025-06-26 13:09:38,174 [INFO] 0%|          | 0/35 [00:00<?, ?it/s]\n",
      "2025-06-26 13:09:38,175 [INFO] \u001b[A\n",
      "2025-06-26 13:09:38,392 [WARNING] no seeds found in get_masks_torch - no masks found.\n",
      "2025-06-26 13:09:38,447 [INFO] No cell pixels found.\n",
      "2025-06-26 13:09:51,036 [INFO] No cell pixels found.\n",
      "2025-06-26 13:09:53,375 [INFO] No cell pixels found.\n",
      "2025-06-26 13:09:54,012 [INFO] No cell pixels found.\n",
      "2025-06-26 13:09:54,059 [INFO] No cell pixels found.\n",
      "2025-06-26 13:09:54,099 [INFO] No cell pixels found.\n",
      "2025-06-26 13:09:54,139 [INFO] No cell pixels found.\n",
      "2025-06-26 13:09:54,178 [INFO] No cell pixels found.\n",
      "2025-06-26 13:09:54,219 [INFO] 100%|##########| 35/35 [00:16<00:00,  2.18it/s]\n",
      "2025-06-26 13:09:54,221 [INFO] stitching 35 planes using stitch_threshold=0.050 to make 3D masks\n"
     ]
    },
    {
     "name": "stderr",
     "output_type": "stream",
     "text": [
      "100%|██████████| 34/34 [00:01<00:00, 28.70it/s]\n"
     ]
    },
    {
     "name": "stdout",
     "output_type": "stream",
     "text": [
      "2025-06-26 13:09:57,507 [INFO] masks created in 19.34s\n",
      "2025-06-26 13:10:10,382 [INFO] 84%|########4 | 21/25 [22:57<05:04, 76.09s/it]\n",
      "2025-06-26 13:10:10,384 [INFO] multi-stack tiff read in as having 40 planes 1 channels\n",
      "2025-06-26 13:10:12,545 [INFO] \n",
      "2025-06-26 13:10:12,546 [INFO] 0%|          | 0/40 [00:00<?, ?it/s]\n",
      "2025-06-26 13:10:12,547 [INFO] \u001b[A\n",
      "2025-06-26 13:10:33,880 [INFO] 100%|##########| 40/40 [00:21<00:00,  1.88it/s]\n",
      "2025-06-26 13:10:35,789 [INFO] network run in 23.24s\n",
      "2025-06-26 13:10:35,791 [INFO] \n",
      "2025-06-26 13:10:35,792 [INFO] 0%|          | 0/40 [00:00<?, ?it/s]\n",
      "2025-06-26 13:10:35,793 [INFO] \u001b[A\n",
      "2025-06-26 13:10:35,805 [INFO] No cell pixels found.\n",
      "2025-06-26 13:10:35,847 [INFO] No cell pixels found.\n",
      "2025-06-26 13:10:37,787 [WARNING] no seeds found in get_masks_torch - no masks found.\n",
      "2025-06-26 13:10:43,659 [INFO] No cell pixels found.\n",
      "2025-06-26 13:10:48,340 [INFO] No cell pixels found.\n",
      "2025-06-26 13:10:48,401 [INFO] No cell pixels found.\n",
      "2025-06-26 13:10:48,472 [INFO] No cell pixels found.\n",
      "2025-06-26 13:10:48,517 [INFO] No cell pixels found.\n",
      "2025-06-26 13:10:50,999 [INFO] No cell pixels found.\n",
      "2025-06-26 13:10:51,036 [INFO] No cell pixels found.\n",
      "2025-06-26 13:10:51,091 [INFO] No cell pixels found.\n",
      "2025-06-26 13:10:51,131 [INFO] No cell pixels found.\n",
      "2025-06-26 13:10:51,170 [INFO] No cell pixels found.\n",
      "2025-06-26 13:10:51,212 [INFO] No cell pixels found.\n",
      "2025-06-26 13:10:51,252 [INFO] No cell pixels found.\n",
      "2025-06-26 13:10:51,293 [INFO] 100%|##########| 40/40 [00:15<00:00,  2.58it/s]\n",
      "2025-06-26 13:10:51,294 [INFO] stitching 40 planes using stitch_threshold=0.050 to make 3D masks\n"
     ]
    },
    {
     "name": "stderr",
     "output_type": "stream",
     "text": [
      "100%|██████████| 39/39 [00:01<00:00, 27.58it/s]\n"
     ]
    },
    {
     "name": "stdout",
     "output_type": "stream",
     "text": [
      "2025-06-26 13:10:55,259 [INFO] masks created in 19.47s\n",
      "2025-06-26 13:11:10,280 [INFO] 88%|########8 | 22/25 [23:57<03:33, 71.23s/it]\n",
      "2025-06-26 13:11:10,282 [INFO] multi-stack tiff read in as having 46 planes 1 channels\n",
      "2025-06-26 13:11:12,772 [INFO] \n",
      "2025-06-26 13:11:12,774 [INFO] 0%|          | 0/46 [00:00<?, ?it/s]\n",
      "2025-06-26 13:11:12,775 [INFO] \u001b[A\n",
      "2025-06-26 13:11:37,105 [INFO] 100%|##########| 46/46 [00:24<00:00,  1.89it/s]\n",
      "2025-06-26 13:11:39,237 [INFO] network run in 26.46s\n",
      "2025-06-26 13:11:39,240 [INFO] \n",
      "2025-06-26 13:11:39,243 [INFO] 0%|          | 0/46 [00:00<?, ?it/s]\n",
      "2025-06-26 13:11:39,245 [INFO] \u001b[A\n",
      "2025-06-26 13:11:39,266 [INFO] No cell pixels found.\n",
      "2025-06-26 13:11:43,579 [INFO] No cell pixels found.\n",
      "2025-06-26 13:11:43,624 [INFO] No cell pixels found.\n",
      "2025-06-26 13:11:43,679 [INFO] No cell pixels found.\n",
      "2025-06-26 13:11:50,081 [INFO] No cell pixels found.\n",
      "2025-06-26 13:11:53,699 [INFO] No cell pixels found.\n",
      "2025-06-26 13:11:53,749 [INFO] No cell pixels found.\n",
      "2025-06-26 13:11:53,799 [INFO] No cell pixels found.\n",
      "2025-06-26 13:11:53,845 [INFO] No cell pixels found.\n",
      "2025-06-26 13:11:53,885 [INFO] No cell pixels found.\n",
      "2025-06-26 13:11:53,925 [INFO] No cell pixels found.\n",
      "2025-06-26 13:11:55,778 [INFO] No cell pixels found.\n",
      "2025-06-26 13:11:55,831 [INFO] No cell pixels found.\n",
      "2025-06-26 13:11:57,232 [WARNING] no seeds found in get_masks_torch - no masks found.\n",
      "2025-06-26 13:11:57,277 [INFO] No cell pixels found.\n",
      "2025-06-26 13:11:57,320 [INFO] No cell pixels found.\n",
      "2025-06-26 13:11:57,360 [INFO] No cell pixels found.\n",
      "2025-06-26 13:11:57,407 [INFO] No cell pixels found.\n",
      "2025-06-26 13:11:57,447 [INFO] 100%|##########| 46/46 [00:18<00:00,  2.53it/s]\n",
      "2025-06-26 13:11:57,448 [INFO] stitching 46 planes using stitch_threshold=0.050 to make 3D masks\n"
     ]
    },
    {
     "name": "stderr",
     "output_type": "stream",
     "text": [
      "100%|██████████| 45/45 [00:01<00:00, 27.52it/s]\n"
     ]
    },
    {
     "name": "stdout",
     "output_type": "stream",
     "text": [
      "2025-06-26 13:12:01,848 [INFO] masks created in 22.61s\n",
      "2025-06-26 13:12:18,558 [INFO] 92%|#########2| 23/25 [25:06<02:20, 70.34s/it]\n",
      "2025-06-26 13:12:18,559 [INFO] multi-stack tiff read in as having 66 planes 1 channels\n",
      "2025-06-26 13:12:22,259 [INFO] \n",
      "2025-06-26 13:12:22,261 [INFO] 0%|          | 0/66 [00:00<?, ?it/s]\n",
      "2025-06-26 13:12:22,264 [INFO] \u001b[A\n",
      "2025-06-26 13:12:52,278 [INFO] \n",
      "2025-06-26 13:12:52,280 [INFO] 85%|########4 | 56/66 [00:30<00:05,  1.87it/s]\n",
      "2025-06-26 13:12:52,282 [INFO] \u001b[A\n",
      "2025-06-26 13:12:57,615 [INFO] 100%|##########| 66/66 [00:35<00:00,  1.87it/s]\n",
      "2025-06-26 13:13:00,806 [INFO] network run in 38.55s\n",
      "2025-06-26 13:13:00,808 [INFO] \n",
      "2025-06-26 13:13:00,810 [INFO] 0%|          | 0/66 [00:00<?, ?it/s]\n",
      "2025-06-26 13:13:00,812 [INFO] \u001b[A\n",
      "2025-06-26 13:13:31,255 [INFO] \n",
      "2025-06-26 13:13:31,258 [INFO] 73%|#######2  | 48/66 [00:30<00:11,  1.58it/s]\n",
      "2025-06-26 13:13:31,260 [INFO] \u001b[A\n",
      "2025-06-26 13:13:35,895 [WARNING] no seeds found in get_masks_torch - no masks found.\n",
      "2025-06-26 13:13:35,942 [INFO] No cell pixels found.\n",
      "2025-06-26 13:13:35,992 [INFO] No cell pixels found.\n",
      "2025-06-26 13:13:36,036 [INFO] No cell pixels found.\n",
      "2025-06-26 13:13:36,078 [INFO] No cell pixels found.\n",
      "2025-06-26 13:13:38,165 [WARNING] no seeds found in get_masks_torch - no masks found.\n",
      "2025-06-26 13:13:38,221 [INFO] No cell pixels found.\n",
      "2025-06-26 13:13:38,267 [INFO] No cell pixels found.\n",
      "2025-06-26 13:13:38,296 [INFO] 100%|##########| 66/66 [00:37<00:00,  1.76it/s]\n",
      "2025-06-26 13:13:38,298 [INFO] stitching 66 planes using stitch_threshold=0.050 to make 3D masks\n"
     ]
    },
    {
     "name": "stderr",
     "output_type": "stream",
     "text": [
      "100%|██████████| 65/65 [00:02<00:00, 28.45it/s]\n"
     ]
    },
    {
     "name": "stdout",
     "output_type": "stream",
     "text": [
      "2025-06-26 13:13:44,377 [INFO] masks created in 43.57s\n",
      "2025-06-26 13:14:09,316 [INFO] 96%|#########6| 24/25 [26:56<01:22, 82.47s/it]\n",
      "2025-06-26 13:14:09,319 [INFO] multi-stack tiff read in as having 52 planes 1 channels\n",
      "2025-06-26 13:14:12,273 [INFO] \n",
      "2025-06-26 13:14:12,275 [INFO] 0%|          | 0/52 [00:00<?, ?it/s]\n",
      "2025-06-26 13:14:12,276 [INFO] \u001b[A\n",
      "2025-06-26 13:14:39,992 [INFO] 100%|##########| 52/52 [00:27<00:00,  1.88it/s]\n",
      "2025-06-26 13:14:42,392 [INFO] network run in 30.12s\n",
      "2025-06-26 13:14:42,394 [INFO] \n",
      "2025-06-26 13:14:42,396 [INFO] 0%|          | 0/52 [00:00<?, ?it/s]\n",
      "2025-06-26 13:14:42,398 [INFO] \u001b[A\n",
      "2025-06-26 13:14:42,416 [INFO] No cell pixels found.\n",
      "2025-06-26 13:14:42,464 [INFO] No cell pixels found.\n",
      "2025-06-26 13:15:06,075 [WARNING] no seeds found in get_masks_torch - no masks found.\n",
      "2025-06-26 13:15:06,883 [WARNING] no seeds found in get_masks_torch - no masks found.\n",
      "2025-06-26 13:15:06,925 [INFO] No cell pixels found.\n",
      "2025-06-26 13:15:06,964 [INFO] No cell pixels found.\n",
      "2025-06-26 13:15:07,002 [INFO] No cell pixels found.\n",
      "2025-06-26 13:15:07,046 [INFO] No cell pixels found.\n",
      "2025-06-26 13:15:07,091 [INFO] No cell pixels found.\n",
      "2025-06-26 13:15:07,133 [INFO] No cell pixels found.\n",
      "2025-06-26 13:15:07,172 [INFO] No cell pixels found.\n",
      "2025-06-26 13:15:07,212 [INFO] No cell pixels found.\n",
      "2025-06-26 13:15:07,253 [INFO] No cell pixels found.\n",
      "2025-06-26 13:15:07,283 [INFO] 100%|##########| 52/52 [00:24<00:00,  2.09it/s]\n",
      "2025-06-26 13:15:07,284 [INFO] stitching 52 planes using stitch_threshold=0.050 to make 3D masks\n"
     ]
    },
    {
     "name": "stderr",
     "output_type": "stream",
     "text": [
      "100%|██████████| 51/51 [00:01<00:00, 27.88it/s]\n"
     ]
    },
    {
     "name": "stdout",
     "output_type": "stream",
     "text": [
      "2025-06-26 13:15:12,329 [INFO] masks created in 29.94s\n",
      "2025-06-26 13:15:31,545 [INFO] 100%|##########| 25/25 [28:19<00:00, 82.40s/it]\n",
      "2025-06-26 13:15:31,546 [INFO] 100%|##########| 25/25 [28:19<00:00, 67.97s/it]\n"
     ]
    }
   ],
   "source": [
    "io.logger_setup()\n",
    "model = models.CellposeModel(gpu=True,model_type=\"Microglia_LargeZ_V2\") # model_type='cyto' or 'nuclei' or 'cyto2' or 'cyto3'\n",
    "channels =[[0,0]]\n",
    "masks, _, _ = model.eval(norm_imgs, channels=channels, z_axis=0,stitch_threshold=0.05, flow_threshold=0.4,cellprob_threshold=0.0)"
   ]
  },
  {
   "cell_type": "code",
   "execution_count": 30,
   "id": "6d0b6a12-ff5c-46fd-a0f5-84cba7478a94",
   "metadata": {},
   "outputs": [
    {
     "name": "stderr",
     "output_type": "stream",
     "text": [
      "100%|██████████| 25/25 [1:29:35<00:00, 215.04s/it]\n"
     ]
    }
   ],
   "source": [
    "for i in tqdm(range(len(norm_imgs))):\n",
    "    img_name = os.path.basename(ims_files[i])\n",
    "    mask_img, df = get_measurements(masks[i],all_img[i],props,voxel=voxel)\n",
    "    merged_df = get_3D_surfacearea_and_sphericity(mask_img,df,voxel=voxel)\n",
    "    save(save_path, img_name, norm_imgs[i], mask_img, merged_df)"
   ]
  },
  {
   "cell_type": "code",
   "execution_count": null,
   "id": "de633861",
   "metadata": {},
   "outputs": [],
   "source": []
  }
 ],
 "metadata": {
  "kernelspec": {
   "display_name": "CellPose_CLE_Skan",
   "language": "python",
   "name": "cellpose_cle_skan"
  },
  "language_info": {
   "codemirror_mode": {
    "name": "ipython",
    "version": 3
   },
   "file_extension": ".py",
   "mimetype": "text/x-python",
   "name": "python",
   "nbconvert_exporter": "python",
   "pygments_lexer": "ipython3",
   "version": "3.10.16"
  }
 },
 "nbformat": 4,
 "nbformat_minor": 5
}
