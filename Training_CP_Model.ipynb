{
 "cells": [
  {
   "cell_type": "code",
   "execution_count": 1,
   "id": "3c25eab0-c719-4197-ae09-d637f1d2ab54",
   "metadata": {},
   "outputs": [],
   "source": [
    "from cellpose import io, models, train\n",
    "import numpy as np\n",
    "import skimage as sk\n",
    "from skimage.io import imread, imshow, imsave"
   ]
  },
  {
   "cell_type": "code",
   "execution_count": null,
   "id": "01bdc8fa-6e9b-4698-bf0b-9e5b314058b9",
   "metadata": {},
   "outputs": [],
   "source": [
    "train_dir\n",
    "test_dir"
   ]
  },
  {
   "cell_type": "code",
   "execution_count": null,
   "id": "43f571d0-8103-4b22-bb61-f3b7c2a21e3a",
   "metadata": {},
   "outputs": [],
   "source": [
    "io.logger_setup()\n",
    "\n",
    "output = io.load_train_test_data(train_dir, test_dir, image_filter=\"_img\",\n",
    "                                mask_filter=\"_masks\", look_one_level_down=False)\n",
    "images, labels, image_names, test_images, test_labels, image_names_test = output\n",
    "\n",
    "# e.g. retrain a Cellpose model\n",
    "model = models.CellposeModel(model_type=\"cyto3\")\n",
    "\n",
    "model_path, train_losses, test_losses = train.train_seg(model.net,\n",
    "                            train_data=images, train_labels=labels,\n",
    "                            channels=[1,2], normalize=True,\n",
    "                            test_data=test_images, test_labels=test_labels,\n",
    "                            weight_decay=1e-4, SGD=True, learning_rate=0.1,\n",
    "                            n_epochs=100, model_name=\"my_new_model\")"
   ]
  },
  {
   "cell_type": "code",
   "execution_count": null,
   "id": "266f43cb-1c8a-4bab-a1d7-4c847510ad32",
   "metadata": {},
   "outputs": [],
   "source": []
  }
 ],
 "metadata": {
  "kernelspec": {
   "display_name": "CellPose_CLE_Skan",
   "language": "python",
   "name": "cellpose_cle_skan"
  },
  "language_info": {
   "codemirror_mode": {
    "name": "ipython",
    "version": 3
   },
   "file_extension": ".py",
   "mimetype": "text/x-python",
   "name": "python",
   "nbconvert_exporter": "python",
   "pygments_lexer": "ipython3",
   "version": "3.10.16"
  }
 },
 "nbformat": 4,
 "nbformat_minor": 5
}
